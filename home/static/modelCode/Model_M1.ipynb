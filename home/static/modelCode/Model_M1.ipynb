{
  "nbformat": 4,
  "nbformat_minor": 0,
  "metadata": {
    "colab": {
      "provenance": []
    },
    "kernelspec": {
      "name": "python3",
      "display_name": "Python 3"
    },
    "language_info": {
      "name": "python"
    }
  },
  "cells": [
    {
      "cell_type": "markdown",
      "source": [
        "CAPTCHA PREDICTION USING CONVOLUTION NEURAL NETWORK"
      ],
      "metadata": {
        "id": "friUyrGrykai"
      }
    },
    {
      "cell_type": "markdown",
      "source": [
        "Capthca sample Image : \n",
        "![2bg48.png](data:image/png;base64,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)"
      ],
      "metadata": {
        "id": "_iFicQ-UxZ34"
      }
    },
    {
      "cell_type": "markdown",
      "source": [
        "Add folloing captcha files to your Drive : https://drive.google.com/drive/folders/1stLiPoijw4yhwBbUCdUizZMiriBU9Jxu?usp=sharing"
      ],
      "metadata": {
        "id": "8Zb81Y-jxsr3"
      }
    },
    {
      "cell_type": "code",
      "source": [
        "import tensorflow as tf\n",
        "from tensorflow.keras import datasets, layers, models\n",
        "\n",
        "import os\n",
        "import time\n",
        "import json\n",
        "import glob\n",
        "import string\n",
        "import cv2\n",
        "\n",
        "import matplotlib.pyplot as plt\n",
        "from PIL import Image\n",
        "from keras.models import Model\n",
        "\n",
        "import numpy as np # linear algebra\n",
        "import pandas as pd # data processing, CSV file I/O (e.g. pd.read_csv)\n",
        "import seaborn as sns\n",
        "\n",
        "tf.__version__"
      ],
      "metadata": {
        "colab": {
          "base_uri": "https://localhost:8080/",
          "height": 35
        },
        "id": "rsazTNkmrC5i",
        "outputId": "217f8243-2deb-4c5a-d381-dedf19e7eaf9"
      },
      "execution_count": 13,
      "outputs": [
        {
          "output_type": "execute_result",
          "data": {
            "text/plain": [
              "'2.11.0'"
            ],
            "application/vnd.google.colaboratory.intrinsic+json": {
              "type": "string"
            }
          },
          "metadata": {},
          "execution_count": 13
        }
      ]
    },
    {
      "cell_type": "code",
      "source": [
        "from google.colab import drive\n",
        "# Mounting drive\n",
        "drive.mount('/content/drive', force_remount=True)"
      ],
      "metadata": {
        "colab": {
          "base_uri": "https://localhost:8080/"
        },
        "id": "OZGhYQP-rG7U",
        "outputId": "6eb4ab93-c886-4d70-b522-0846fd2dcc94"
      },
      "execution_count": 2,
      "outputs": [
        {
          "output_type": "stream",
          "name": "stdout",
          "text": [
            "Mounted at /content/drive\n"
          ]
        }
      ]
    },
    {
      "cell_type": "code",
      "source": [
        "# Change this Variable value accordingly\n",
        "DATA_DIR = '/content/drive/MyDrive/samples/samples/'"
      ],
      "metadata": {
        "id": "DbHfhf3drUxc"
      },
      "execution_count": 3,
      "outputs": []
    },
    {
      "cell_type": "code",
      "source": [
        "#total no of images in dataset\n",
        "n = len(os.listdir(DATA_DIR))\n",
        "n"
      ],
      "metadata": {
        "colab": {
          "base_uri": "https://localhost:8080/"
        },
        "id": "vNJyibNwrP8R",
        "outputId": "9b15e3e3-496e-46a0-c3c3-06d2832369bd"
      },
      "execution_count": 4,
      "outputs": [
        {
          "output_type": "execute_result",
          "data": {
            "text/plain": [
              "1070"
            ]
          },
          "metadata": {},
          "execution_count": 4
        }
      ]
    },
    {
      "cell_type": "code",
      "execution_count": 5,
      "metadata": {
        "id": "LTEDz376okRj"
      },
      "outputs": [],
      "source": [
        "#defining size of image\n",
        "imgshape=(50,200,1) #50-height, 200-width, 1-no of channels"
      ]
    },
    {
      "cell_type": "code",
      "source": [
        "# All symbols that captcha can contain\n",
        "character= string.ascii_lowercase + \"0123456789\" # All symbols captcha can contain\n",
        "print(\"Possible character : \" + character)"
      ],
      "metadata": {
        "id": "1Nbb-nirpm3K",
        "colab": {
          "base_uri": "https://localhost:8080/"
        },
        "outputId": "52317f81-cc2d-486d-df7c-b39d5cbf2112"
      },
      "execution_count": 8,
      "outputs": [
        {
          "output_type": "stream",
          "name": "stdout",
          "text": [
            "Possible character : abcdefghijklmnopqrstuvwxyz0123456789\n"
          ]
        }
      ]
    },
    {
      "cell_type": "code",
      "source": [
        "# Total number of char possible\n",
        "nchar = len(character) \n",
        "print(\"Total number of possible character : \" + str(nchar))"
      ],
      "metadata": {
        "colab": {
          "base_uri": "https://localhost:8080/"
        },
        "id": "9IlSMGbTsZ3O",
        "outputId": "a5139666-4d86-4607-b153-68dc772c7385"
      },
      "execution_count": 9,
      "outputs": [
        {
          "output_type": "stream",
          "name": "stdout",
          "text": [
            "Total number of possible character : 36\n"
          ]
        }
      ]
    },
    {
      "cell_type": "code",
      "source": [
        "#preprocesss image\n",
        "def preprocess():\n",
        "    X = np.zeros((n,50,200,1)) #1070*50*200 array with all entries 0\n",
        "    y = np.zeros((5,n,nchar)) #5*1070*36(5 letters in captcha) with all entries 0\n",
        "\n",
        "    for i, pic in enumerate(os.listdir(DATA_DIR)):\n",
        "    #i represents index no. of image in directory \n",
        "    #pic contains the file name of the particular image to be preprocessed at a time\n",
        "    \n",
        "        img = cv2.imread(os.path.join(DATA_DIR, pic), cv2.IMREAD_GRAYSCALE) #Read image in grayscale format\n",
        "        pic_target = pic[:-4]#this drops the .png extension from file name and contains only the captcha for training\n",
        "        \n",
        "        if len(pic_target) < 6: #captcha is not more than 5 letters\n",
        "            img = img / 255.0 #scales the image between 0 and 1\n",
        "            img = np.reshape(img, (50, 200, 1)) #reshapes image to width 200 , height 50 ,channel 1 \n",
        "\n",
        "            target=np.zeros((5,nchar)) #creates an array of size 5*36 with all entries 0\n",
        "\n",
        "        for j, k in enumerate(pic_target):\n",
        "        #j iterates from 0 to 4(5 letters in captcha)\n",
        "        #k denotes the letter in captcha which is to be scanned\n",
        "            index = character.find(k) #index stores the position of letter k of captcha in the character string\n",
        "            target[j, index] = 1 #replaces 0 with 1 in the target array at the position of the letter in captcha\n",
        "\n",
        "        X[i] = img #stores all the images\n",
        "        y[:,i] = target #stores all the info about the letters in captcha of all images\n",
        "\n",
        "    return X,y"
      ],
      "metadata": {
        "id": "1ZIKBO3kpqdR"
      },
      "execution_count": 11,
      "outputs": []
    },
    {
      "cell_type": "code",
      "source": [
        "#create model\n",
        "def createmodel():\n",
        "    img = layers.Input(shape=imgshape) # Get image as an input of size 50,200,1\n",
        "    conv1 = layers.Conv2D(16, (3, 3), padding='same', activation='relu')(img) #50*200\n",
        "    mp1 = layers.MaxPooling2D(padding='same')(conv1)  # 25*100\n",
        "    conv2 = layers.Conv2D(32, (3, 3), padding='same', activation='relu')(mp1)\n",
        "    mp2 = layers.MaxPooling2D(padding='same')(conv2)  # 13*50\n",
        "    conv3 = layers.Conv2D(32, (3, 3), padding='same', activation='relu')(mp2)\n",
        "    bn = layers.BatchNormalization()(conv3) #to improve the stability of model\n",
        "    mp3 = layers.MaxPooling2D(padding='same')(bn)  # 7*25\n",
        "    \n",
        "    flat = layers.Flatten()(mp3) #convert the layer into 1-D\n",
        "\n",
        "    outs = []\n",
        "    for _ in range(5): #for 5 letters of captcha\n",
        "        dens1 = layers.Dense(64, activation='relu')(flat)\n",
        "        drop = layers.Dropout(0.5)(dens1) #drops 0.5 fraction of nodes\n",
        "        res = layers.Dense(nchar, activation='sigmoid')(drop)\n",
        "\n",
        "        outs.append(res) #result of layers\n",
        "    \n",
        "    # Compile model and return it\n",
        "    model = Model(img, outs) #create model\n",
        "    model.compile(loss='categorical_crossentropy', optimizer='adam',metrics=[\"accuracy\"])\n",
        "    return model"
      ],
      "metadata": {
        "id": "T03VXkb3p2NE"
      },
      "execution_count": 14,
      "outputs": []
    },
    {
      "cell_type": "code",
      "source": [
        "#Create model\n",
        "model=createmodel();\n",
        "model.summary();"
      ],
      "metadata": {
        "id": "xNjSVsTRp8-u",
        "colab": {
          "base_uri": "https://localhost:8080/"
        },
        "outputId": "07a50a07-ea09-4ce7-cd0a-31b2e1de02ea"
      },
      "execution_count": 15,
      "outputs": [
        {
          "output_type": "stream",
          "name": "stdout",
          "text": [
            "Model: \"model\"\n",
            "__________________________________________________________________________________________________\n",
            " Layer (type)                   Output Shape         Param #     Connected to                     \n",
            "==================================================================================================\n",
            " input_1 (InputLayer)           [(None, 50, 200, 1)  0           []                               \n",
            "                                ]                                                                 \n",
            "                                                                                                  \n",
            " conv2d (Conv2D)                (None, 50, 200, 16)  160         ['input_1[0][0]']                \n",
            "                                                                                                  \n",
            " max_pooling2d (MaxPooling2D)   (None, 25, 100, 16)  0           ['conv2d[0][0]']                 \n",
            "                                                                                                  \n",
            " conv2d_1 (Conv2D)              (None, 25, 100, 32)  4640        ['max_pooling2d[0][0]']          \n",
            "                                                                                                  \n",
            " max_pooling2d_1 (MaxPooling2D)  (None, 13, 50, 32)  0           ['conv2d_1[0][0]']               \n",
            "                                                                                                  \n",
            " conv2d_2 (Conv2D)              (None, 13, 50, 32)   9248        ['max_pooling2d_1[0][0]']        \n",
            "                                                                                                  \n",
            " batch_normalization (BatchNorm  (None, 13, 50, 32)  128         ['conv2d_2[0][0]']               \n",
            " alization)                                                                                       \n",
            "                                                                                                  \n",
            " max_pooling2d_2 (MaxPooling2D)  (None, 7, 25, 32)   0           ['batch_normalization[0][0]']    \n",
            "                                                                                                  \n",
            " flatten (Flatten)              (None, 5600)         0           ['max_pooling2d_2[0][0]']        \n",
            "                                                                                                  \n",
            " dense (Dense)                  (None, 64)           358464      ['flatten[0][0]']                \n",
            "                                                                                                  \n",
            " dense_2 (Dense)                (None, 64)           358464      ['flatten[0][0]']                \n",
            "                                                                                                  \n",
            " dense_4 (Dense)                (None, 64)           358464      ['flatten[0][0]']                \n",
            "                                                                                                  \n",
            " dense_6 (Dense)                (None, 64)           358464      ['flatten[0][0]']                \n",
            "                                                                                                  \n",
            " dense_8 (Dense)                (None, 64)           358464      ['flatten[0][0]']                \n",
            "                                                                                                  \n",
            " dropout (Dropout)              (None, 64)           0           ['dense[0][0]']                  \n",
            "                                                                                                  \n",
            " dropout_1 (Dropout)            (None, 64)           0           ['dense_2[0][0]']                \n",
            "                                                                                                  \n",
            " dropout_2 (Dropout)            (None, 64)           0           ['dense_4[0][0]']                \n",
            "                                                                                                  \n",
            " dropout_3 (Dropout)            (None, 64)           0           ['dense_6[0][0]']                \n",
            "                                                                                                  \n",
            " dropout_4 (Dropout)            (None, 64)           0           ['dense_8[0][0]']                \n",
            "                                                                                                  \n",
            " dense_1 (Dense)                (None, 36)           2340        ['dropout[0][0]']                \n",
            "                                                                                                  \n",
            " dense_3 (Dense)                (None, 36)           2340        ['dropout_1[0][0]']              \n",
            "                                                                                                  \n",
            " dense_5 (Dense)                (None, 36)           2340        ['dropout_2[0][0]']              \n",
            "                                                                                                  \n",
            " dense_7 (Dense)                (None, 36)           2340        ['dropout_3[0][0]']              \n",
            "                                                                                                  \n",
            " dense_9 (Dense)                (None, 36)           2340        ['dropout_4[0][0]']              \n",
            "                                                                                                  \n",
            "==================================================================================================\n",
            "Total params: 1,818,196\n",
            "Trainable params: 1,818,132\n",
            "Non-trainable params: 64\n",
            "__________________________________________________________________________________________________\n"
          ]
        }
      ]
    },
    {
      "cell_type": "code",
      "source": [
        "X,y=preprocess()"
      ],
      "metadata": {
        "id": "2ypN7Bm6p_g6"
      },
      "execution_count": 16,
      "outputs": []
    },
    {
      "cell_type": "code",
      "source": [
        "#split the 1070 samples where 970 samples will be used for training purpose\n",
        "X_train, y_train = X[:970], y[:, :970]\n",
        "X_test, y_test = X[970:], y[:, 970:]"
      ],
      "metadata": {
        "id": "RuKRb4wCqBk0"
      },
      "execution_count": 17,
      "outputs": []
    },
    {
      "cell_type": "code",
      "source": [
        "#Applying the model\n",
        "hist = model.fit(X_train, [y_train[0], y_train[1], y_train[2], y_train[3], y_train[4]], batch_size=32, epochs=120, validation_split=0.8)\n",
        "#batch size- 32 defines no. of samples per gradient update\n",
        "#Validation split=0.2 splits the training set in 80-20% for training nd testing"
      ],
      "metadata": {
        "id": "NZZqAF5_qEv2",
        "colab": {
          "base_uri": "https://localhost:8080/"
        },
        "outputId": "55d88d7b-0818-4bc9-b35d-b8de50f00395"
      },
      "execution_count": 18,
      "outputs": [
        {
          "output_type": "stream",
          "name": "stdout",
          "text": [
            "Epoch 1/120\n",
            "7/7 [==============================] - 11s 828ms/step - loss: 19.3000 - dense_1_loss: 3.6096 - dense_3_loss: 3.9075 - dense_5_loss: 4.0699 - dense_7_loss: 3.9082 - dense_9_loss: 3.8048 - dense_1_accuracy: 0.1088 - dense_3_accuracy: 0.0466 - dense_5_accuracy: 0.0518 - dense_7_accuracy: 0.0207 - dense_9_accuracy: 0.0674 - val_loss: 17.7524 - val_dense_1_loss: 3.5362 - val_dense_3_loss: 3.5502 - val_dense_5_loss: 3.5283 - val_dense_7_loss: 3.5719 - val_dense_9_loss: 3.5658 - val_dense_1_accuracy: 0.0476 - val_dense_3_accuracy: 0.0463 - val_dense_5_accuracy: 0.0553 - val_dense_7_accuracy: 0.0373 - val_dense_9_accuracy: 0.0695\n",
            "Epoch 2/120\n",
            "7/7 [==============================] - 9s 1s/step - loss: 17.3601 - dense_1_loss: 3.1682 - dense_3_loss: 3.4316 - dense_5_loss: 3.6689 - dense_7_loss: 3.5568 - dense_9_loss: 3.5347 - dense_1_accuracy: 0.1192 - dense_3_accuracy: 0.0674 - dense_5_accuracy: 0.0570 - dense_7_accuracy: 0.0415 - dense_9_accuracy: 0.0881 - val_loss: 17.7090 - val_dense_1_loss: 3.5348 - val_dense_3_loss: 3.5094 - val_dense_5_loss: 3.5505 - val_dense_7_loss: 3.5623 - val_dense_9_loss: 3.5519 - val_dense_1_accuracy: 0.0296 - val_dense_3_accuracy: 0.0734 - val_dense_5_accuracy: 0.0721 - val_dense_7_accuracy: 0.0476 - val_dense_9_accuracy: 0.1429\n",
            "Epoch 3/120\n",
            "7/7 [==============================] - 4s 677ms/step - loss: 17.0200 - dense_1_loss: 3.0350 - dense_3_loss: 3.5068 - dense_5_loss: 3.4793 - dense_7_loss: 3.5370 - dense_9_loss: 3.4619 - dense_1_accuracy: 0.1088 - dense_3_accuracy: 0.0829 - dense_5_accuracy: 0.0674 - dense_7_accuracy: 0.0829 - dense_9_accuracy: 0.0674 - val_loss: 17.6507 - val_dense_1_loss: 3.5305 - val_dense_3_loss: 3.5003 - val_dense_5_loss: 3.5409 - val_dense_7_loss: 3.5597 - val_dense_9_loss: 3.5193 - val_dense_1_accuracy: 0.0296 - val_dense_3_accuracy: 0.0618 - val_dense_5_accuracy: 0.0553 - val_dense_7_accuracy: 0.0541 - val_dense_9_accuracy: 0.1145\n",
            "Epoch 4/120\n",
            "7/7 [==============================] - 4s 677ms/step - loss: 16.8973 - dense_1_loss: 2.9751 - dense_3_loss: 3.4322 - dense_5_loss: 3.4957 - dense_7_loss: 3.5258 - dense_9_loss: 3.4686 - dense_1_accuracy: 0.1606 - dense_3_accuracy: 0.0725 - dense_5_accuracy: 0.0829 - dense_7_accuracy: 0.0777 - dense_9_accuracy: 0.0777 - val_loss: 17.5811 - val_dense_1_loss: 3.5218 - val_dense_3_loss: 3.4649 - val_dense_5_loss: 3.5183 - val_dense_7_loss: 3.5426 - val_dense_9_loss: 3.5335 - val_dense_1_accuracy: 0.0296 - val_dense_3_accuracy: 0.0618 - val_dense_5_accuracy: 0.0438 - val_dense_7_accuracy: 0.0463 - val_dense_9_accuracy: 0.1145\n",
            "Epoch 5/120\n",
            "7/7 [==============================] - 6s 840ms/step - loss: 16.2948 - dense_1_loss: 2.6838 - dense_3_loss: 3.2960 - dense_5_loss: 3.4761 - dense_7_loss: 3.4673 - dense_9_loss: 3.3716 - dense_1_accuracy: 0.1969 - dense_3_accuracy: 0.0829 - dense_5_accuracy: 0.0570 - dense_7_accuracy: 0.0829 - dense_9_accuracy: 0.0725 - val_loss: 17.5731 - val_dense_1_loss: 3.5097 - val_dense_3_loss: 3.4626 - val_dense_5_loss: 3.5379 - val_dense_7_loss: 3.5440 - val_dense_9_loss: 3.5190 - val_dense_1_accuracy: 0.0296 - val_dense_3_accuracy: 0.0450 - val_dense_5_accuracy: 0.0669 - val_dense_7_accuracy: 0.0450 - val_dense_9_accuracy: 0.0090\n",
            "Epoch 6/120\n",
            "7/7 [==============================] - 4s 667ms/step - loss: 16.1171 - dense_1_loss: 2.6768 - dense_3_loss: 3.1694 - dense_5_loss: 3.4241 - dense_7_loss: 3.4471 - dense_9_loss: 3.3996 - dense_1_accuracy: 0.2124 - dense_3_accuracy: 0.0777 - dense_5_accuracy: 0.0363 - dense_7_accuracy: 0.0674 - dense_9_accuracy: 0.0725 - val_loss: 17.5330 - val_dense_1_loss: 3.5108 - val_dense_3_loss: 3.4641 - val_dense_5_loss: 3.5150 - val_dense_7_loss: 3.5196 - val_dense_9_loss: 3.5236 - val_dense_1_accuracy: 0.0335 - val_dense_3_accuracy: 0.1197 - val_dense_5_accuracy: 0.0656 - val_dense_7_accuracy: 0.0450 - val_dense_9_accuracy: 0.1197\n",
            "Epoch 7/120\n",
            "7/7 [==============================] - 4s 674ms/step - loss: 15.6855 - dense_1_loss: 2.5274 - dense_3_loss: 3.0756 - dense_5_loss: 3.4208 - dense_7_loss: 3.4033 - dense_9_loss: 3.2584 - dense_1_accuracy: 0.2591 - dense_3_accuracy: 0.0984 - dense_5_accuracy: 0.0466 - dense_7_accuracy: 0.0363 - dense_9_accuracy: 0.1088 - val_loss: 17.5457 - val_dense_1_loss: 3.5158 - val_dense_3_loss: 3.4621 - val_dense_5_loss: 3.5251 - val_dense_7_loss: 3.5212 - val_dense_9_loss: 3.5214 - val_dense_1_accuracy: 0.0914 - val_dense_3_accuracy: 0.1609 - val_dense_5_accuracy: 0.0682 - val_dense_7_accuracy: 0.0553 - val_dense_9_accuracy: 0.0734\n",
            "Epoch 8/120\n",
            "7/7 [==============================] - 6s 883ms/step - loss: 15.3869 - dense_1_loss: 2.4433 - dense_3_loss: 2.8833 - dense_5_loss: 3.3723 - dense_7_loss: 3.3483 - dense_9_loss: 3.3398 - dense_1_accuracy: 0.2798 - dense_3_accuracy: 0.1658 - dense_5_accuracy: 0.0725 - dense_7_accuracy: 0.0881 - dense_9_accuracy: 0.0984 - val_loss: 17.4893 - val_dense_1_loss: 3.5066 - val_dense_3_loss: 3.4417 - val_dense_5_loss: 3.5273 - val_dense_7_loss: 3.5216 - val_dense_9_loss: 3.4922 - val_dense_1_accuracy: 0.0708 - val_dense_3_accuracy: 0.1789 - val_dense_5_accuracy: 0.0605 - val_dense_7_accuracy: 0.0656 - val_dense_9_accuracy: 0.0682\n",
            "Epoch 9/120\n",
            "7/7 [==============================] - 5s 721ms/step - loss: 15.0348 - dense_1_loss: 2.1784 - dense_3_loss: 2.9708 - dense_5_loss: 3.3512 - dense_7_loss: 3.4005 - dense_9_loss: 3.1339 - dense_1_accuracy: 0.2850 - dense_3_accuracy: 0.1088 - dense_5_accuracy: 0.0829 - dense_7_accuracy: 0.0725 - dense_9_accuracy: 0.1503 - val_loss: 17.4478 - val_dense_1_loss: 3.4960 - val_dense_3_loss: 3.4005 - val_dense_5_loss: 3.5358 - val_dense_7_loss: 3.5149 - val_dense_9_loss: 3.5005 - val_dense_1_accuracy: 0.0656 - val_dense_3_accuracy: 0.1338 - val_dense_5_accuracy: 0.0579 - val_dense_7_accuracy: 0.0631 - val_dense_9_accuracy: 0.1107\n",
            "Epoch 10/120\n",
            "7/7 [==============================] - 6s 968ms/step - loss: 14.4776 - dense_1_loss: 2.2028 - dense_3_loss: 2.6603 - dense_5_loss: 3.2846 - dense_7_loss: 3.3045 - dense_9_loss: 3.0255 - dense_1_accuracy: 0.2850 - dense_3_accuracy: 0.1865 - dense_5_accuracy: 0.1088 - dense_7_accuracy: 0.0933 - dense_9_accuracy: 0.1399 - val_loss: 17.3477 - val_dense_1_loss: 3.4990 - val_dense_3_loss: 3.3805 - val_dense_5_loss: 3.4947 - val_dense_7_loss: 3.5089 - val_dense_9_loss: 3.4645 - val_dense_1_accuracy: 0.0656 - val_dense_3_accuracy: 0.1184 - val_dense_5_accuracy: 0.0862 - val_dense_7_accuracy: 0.0746 - val_dense_9_accuracy: 0.1377\n",
            "Epoch 11/120\n",
            "7/7 [==============================] - 5s 694ms/step - loss: 13.9858 - dense_1_loss: 1.9654 - dense_3_loss: 2.5689 - dense_5_loss: 3.2410 - dense_7_loss: 3.2183 - dense_9_loss: 2.9923 - dense_1_accuracy: 0.3731 - dense_3_accuracy: 0.2332 - dense_5_accuracy: 0.0984 - dense_7_accuracy: 0.0933 - dense_9_accuracy: 0.1554 - val_loss: 17.3420 - val_dense_1_loss: 3.4966 - val_dense_3_loss: 3.3966 - val_dense_5_loss: 3.4891 - val_dense_7_loss: 3.4938 - val_dense_9_loss: 3.4658 - val_dense_1_accuracy: 0.1107 - val_dense_3_accuracy: 0.1789 - val_dense_5_accuracy: 0.1004 - val_dense_7_accuracy: 0.0875 - val_dense_9_accuracy: 0.0952\n",
            "Epoch 12/120\n",
            "7/7 [==============================] - 5s 757ms/step - loss: 13.4852 - dense_1_loss: 1.8417 - dense_3_loss: 2.4735 - dense_5_loss: 3.0856 - dense_7_loss: 3.2205 - dense_9_loss: 2.8639 - dense_1_accuracy: 0.4352 - dense_3_accuracy: 0.2487 - dense_5_accuracy: 0.0984 - dense_7_accuracy: 0.1036 - dense_9_accuracy: 0.1969 - val_loss: 17.3608 - val_dense_1_loss: 3.4889 - val_dense_3_loss: 3.4113 - val_dense_5_loss: 3.4924 - val_dense_7_loss: 3.4890 - val_dense_9_loss: 3.4792 - val_dense_1_accuracy: 0.0952 - val_dense_3_accuracy: 0.2021 - val_dense_5_accuracy: 0.1184 - val_dense_7_accuracy: 0.0772 - val_dense_9_accuracy: 0.1300\n",
            "Epoch 13/120\n",
            "7/7 [==============================] - 4s 688ms/step - loss: 13.3294 - dense_1_loss: 1.6849 - dense_3_loss: 2.5175 - dense_5_loss: 3.0283 - dense_7_loss: 3.1528 - dense_9_loss: 2.9459 - dense_1_accuracy: 0.3679 - dense_3_accuracy: 0.2642 - dense_5_accuracy: 0.1295 - dense_7_accuracy: 0.0777 - dense_9_accuracy: 0.1399 - val_loss: 17.3699 - val_dense_1_loss: 3.5017 - val_dense_3_loss: 3.4002 - val_dense_5_loss: 3.4924 - val_dense_7_loss: 3.5013 - val_dense_9_loss: 3.4743 - val_dense_1_accuracy: 0.1004 - val_dense_3_accuracy: 0.1480 - val_dense_5_accuracy: 0.1236 - val_dense_7_accuracy: 0.0914 - val_dense_9_accuracy: 0.0940\n",
            "Epoch 14/120\n",
            "7/7 [==============================] - 6s 876ms/step - loss: 12.8761 - dense_1_loss: 1.7878 - dense_3_loss: 2.0829 - dense_5_loss: 2.9068 - dense_7_loss: 3.2007 - dense_9_loss: 2.8979 - dense_1_accuracy: 0.3938 - dense_3_accuracy: 0.3316 - dense_5_accuracy: 0.1503 - dense_7_accuracy: 0.0777 - dense_9_accuracy: 0.1762 - val_loss: 17.3333 - val_dense_1_loss: 3.5296 - val_dense_3_loss: 3.3785 - val_dense_5_loss: 3.4697 - val_dense_7_loss: 3.4879 - val_dense_9_loss: 3.4677 - val_dense_1_accuracy: 0.0502 - val_dense_3_accuracy: 0.1879 - val_dense_5_accuracy: 0.1236 - val_dense_7_accuracy: 0.0489 - val_dense_9_accuracy: 0.0631\n",
            "Epoch 15/120\n",
            "7/7 [==============================] - 4s 673ms/step - loss: 12.6019 - dense_1_loss: 1.5326 - dense_3_loss: 2.3034 - dense_5_loss: 2.9612 - dense_7_loss: 3.1295 - dense_9_loss: 2.6751 - dense_1_accuracy: 0.4870 - dense_3_accuracy: 0.2953 - dense_5_accuracy: 0.1295 - dense_7_accuracy: 0.0881 - dense_9_accuracy: 0.2228 - val_loss: 17.4462 - val_dense_1_loss: 3.5198 - val_dense_3_loss: 3.4106 - val_dense_5_loss: 3.5036 - val_dense_7_loss: 3.5413 - val_dense_9_loss: 3.4709 - val_dense_1_accuracy: 0.0785 - val_dense_3_accuracy: 0.0605 - val_dense_5_accuracy: 0.0347 - val_dense_7_accuracy: 0.0257 - val_dense_9_accuracy: 0.0566\n",
            "Epoch 16/120\n",
            "7/7 [==============================] - 4s 671ms/step - loss: 12.1148 - dense_1_loss: 1.4151 - dense_3_loss: 2.0699 - dense_5_loss: 2.9113 - dense_7_loss: 3.0322 - dense_9_loss: 2.6862 - dense_1_accuracy: 0.5337 - dense_3_accuracy: 0.3368 - dense_5_accuracy: 0.1710 - dense_7_accuracy: 0.1347 - dense_9_accuracy: 0.2176 - val_loss: 17.1727 - val_dense_1_loss: 3.4840 - val_dense_3_loss: 3.3279 - val_dense_5_loss: 3.4816 - val_dense_7_loss: 3.4513 - val_dense_9_loss: 3.4280 - val_dense_1_accuracy: 0.1326 - val_dense_3_accuracy: 0.2368 - val_dense_5_accuracy: 0.1158 - val_dense_7_accuracy: 0.0515 - val_dense_9_accuracy: 0.0837\n",
            "Epoch 17/120\n",
            "7/7 [==============================] - 6s 877ms/step - loss: 11.5300 - dense_1_loss: 1.2898 - dense_3_loss: 1.9473 - dense_5_loss: 2.7741 - dense_7_loss: 2.8392 - dense_9_loss: 2.6797 - dense_1_accuracy: 0.5492 - dense_3_accuracy: 0.3627 - dense_5_accuracy: 0.1658 - dense_7_accuracy: 0.1606 - dense_9_accuracy: 0.2228 - val_loss: 17.0791 - val_dense_1_loss: 3.4493 - val_dense_3_loss: 3.3000 - val_dense_5_loss: 3.4538 - val_dense_7_loss: 3.4371 - val_dense_9_loss: 3.4389 - val_dense_1_accuracy: 0.1776 - val_dense_3_accuracy: 0.2407 - val_dense_5_accuracy: 0.0914 - val_dense_7_accuracy: 0.1004 - val_dense_9_accuracy: 0.0927\n",
            "Epoch 18/120\n",
            "7/7 [==============================] - 4s 557ms/step - loss: 11.3453 - dense_1_loss: 1.1614 - dense_3_loss: 1.7924 - dense_5_loss: 2.8761 - dense_7_loss: 2.8828 - dense_9_loss: 2.6327 - dense_1_accuracy: 0.6373 - dense_3_accuracy: 0.4767 - dense_5_accuracy: 0.1762 - dense_7_accuracy: 0.1295 - dense_9_accuracy: 0.2435 - val_loss: 17.0336 - val_dense_1_loss: 3.4511 - val_dense_3_loss: 3.2695 - val_dense_5_loss: 3.4460 - val_dense_7_loss: 3.4302 - val_dense_9_loss: 3.4368 - val_dense_1_accuracy: 0.1725 - val_dense_3_accuracy: 0.2188 - val_dense_5_accuracy: 0.1583 - val_dense_7_accuracy: 0.0450 - val_dense_9_accuracy: 0.0991\n",
            "Epoch 19/120\n",
            "7/7 [==============================] - 4s 674ms/step - loss: 11.1955 - dense_1_loss: 1.4103 - dense_3_loss: 1.7235 - dense_5_loss: 2.6625 - dense_7_loss: 2.8572 - dense_9_loss: 2.5420 - dense_1_accuracy: 0.5285 - dense_3_accuracy: 0.4352 - dense_5_accuracy: 0.2176 - dense_7_accuracy: 0.1762 - dense_9_accuracy: 0.2280 - val_loss: 16.9784 - val_dense_1_loss: 3.4642 - val_dense_3_loss: 3.2404 - val_dense_5_loss: 3.4108 - val_dense_7_loss: 3.4382 - val_dense_9_loss: 3.4248 - val_dense_1_accuracy: 0.1828 - val_dense_3_accuracy: 0.1737 - val_dense_5_accuracy: 0.1210 - val_dense_7_accuracy: 0.0450 - val_dense_9_accuracy: 0.1081\n",
            "Epoch 20/120\n",
            "7/7 [==============================] - 5s 786ms/step - loss: 10.6359 - dense_1_loss: 1.0391 - dense_3_loss: 1.6479 - dense_5_loss: 2.6451 - dense_7_loss: 2.7867 - dense_9_loss: 2.5171 - dense_1_accuracy: 0.6114 - dense_3_accuracy: 0.4767 - dense_5_accuracy: 0.2073 - dense_7_accuracy: 0.1762 - dense_9_accuracy: 0.2798 - val_loss: 16.8773 - val_dense_1_loss: 3.4052 - val_dense_3_loss: 3.2406 - val_dense_5_loss: 3.4193 - val_dense_7_loss: 3.4146 - val_dense_9_loss: 3.3975 - val_dense_1_accuracy: 0.2368 - val_dense_3_accuracy: 0.2394 - val_dense_5_accuracy: 0.1261 - val_dense_7_accuracy: 0.1030 - val_dense_9_accuracy: 0.1300\n",
            "Epoch 21/120\n",
            "7/7 [==============================] - 4s 553ms/step - loss: 10.1660 - dense_1_loss: 0.9542 - dense_3_loss: 1.4739 - dense_5_loss: 2.6649 - dense_7_loss: 2.6955 - dense_9_loss: 2.3774 - dense_1_accuracy: 0.6425 - dense_3_accuracy: 0.5440 - dense_5_accuracy: 0.1865 - dense_7_accuracy: 0.1917 - dense_9_accuracy: 0.3005 - val_loss: 16.5959 - val_dense_1_loss: 3.3972 - val_dense_3_loss: 3.1084 - val_dense_5_loss: 3.3765 - val_dense_7_loss: 3.3939 - val_dense_9_loss: 3.3199 - val_dense_1_accuracy: 0.2175 - val_dense_3_accuracy: 0.2896 - val_dense_5_accuracy: 0.1351 - val_dense_7_accuracy: 0.1171 - val_dense_9_accuracy: 0.1840\n",
            "Epoch 22/120\n",
            "7/7 [==============================] - 4s 544ms/step - loss: 9.7814 - dense_1_loss: 1.0332 - dense_3_loss: 1.3470 - dense_5_loss: 2.3629 - dense_7_loss: 2.6246 - dense_9_loss: 2.4136 - dense_1_accuracy: 0.6839 - dense_3_accuracy: 0.5440 - dense_5_accuracy: 0.3212 - dense_7_accuracy: 0.2746 - dense_9_accuracy: 0.3161 - val_loss: 16.4684 - val_dense_1_loss: 3.3881 - val_dense_3_loss: 3.0608 - val_dense_5_loss: 3.3223 - val_dense_7_loss: 3.3656 - val_dense_9_loss: 3.3316 - val_dense_1_accuracy: 0.2432 - val_dense_3_accuracy: 0.4569 - val_dense_5_accuracy: 0.1776 - val_dense_7_accuracy: 0.1982 - val_dense_9_accuracy: 0.2098\n",
            "Epoch 23/120\n",
            "7/7 [==============================] - 7s 1s/step - loss: 9.3948 - dense_1_loss: 0.9717 - dense_3_loss: 1.2190 - dense_5_loss: 2.2863 - dense_7_loss: 2.6092 - dense_9_loss: 2.3085 - dense_1_accuracy: 0.6943 - dense_3_accuracy: 0.6269 - dense_5_accuracy: 0.2798 - dense_7_accuracy: 0.2073 - dense_9_accuracy: 0.2850 - val_loss: 16.3049 - val_dense_1_loss: 3.3543 - val_dense_3_loss: 3.0059 - val_dense_5_loss: 3.3178 - val_dense_7_loss: 3.3161 - val_dense_9_loss: 3.3107 - val_dense_1_accuracy: 0.2484 - val_dense_3_accuracy: 0.2831 - val_dense_5_accuracy: 0.1931 - val_dense_7_accuracy: 0.1647 - val_dense_9_accuracy: 0.1544\n",
            "Epoch 24/120\n",
            "7/7 [==============================] - 4s 546ms/step - loss: 8.8384 - dense_1_loss: 0.9933 - dense_3_loss: 1.0941 - dense_5_loss: 2.2396 - dense_7_loss: 2.2849 - dense_9_loss: 2.2265 - dense_1_accuracy: 0.6736 - dense_3_accuracy: 0.6166 - dense_5_accuracy: 0.3161 - dense_7_accuracy: 0.2902 - dense_9_accuracy: 0.2642 - val_loss: 16.0101 - val_dense_1_loss: 3.3145 - val_dense_3_loss: 2.8828 - val_dense_5_loss: 3.2831 - val_dense_7_loss: 3.2632 - val_dense_9_loss: 3.2664 - val_dense_1_accuracy: 0.2703 - val_dense_3_accuracy: 0.4054 - val_dense_5_accuracy: 0.2227 - val_dense_7_accuracy: 0.1995 - val_dense_9_accuracy: 0.1815\n",
            "Epoch 25/120\n",
            "7/7 [==============================] - 4s 667ms/step - loss: 8.4983 - dense_1_loss: 0.7530 - dense_3_loss: 1.0552 - dense_5_loss: 2.1407 - dense_7_loss: 2.4456 - dense_9_loss: 2.1038 - dense_1_accuracy: 0.7461 - dense_3_accuracy: 0.6632 - dense_5_accuracy: 0.2746 - dense_7_accuracy: 0.2642 - dense_9_accuracy: 0.3109 - val_loss: 16.0858 - val_dense_1_loss: 3.3166 - val_dense_3_loss: 2.9235 - val_dense_5_loss: 3.2640 - val_dense_7_loss: 3.3532 - val_dense_9_loss: 3.2285 - val_dense_1_accuracy: 0.3037 - val_dense_3_accuracy: 0.5495 - val_dense_5_accuracy: 0.2329 - val_dense_7_accuracy: 0.1737 - val_dense_9_accuracy: 0.2535\n",
            "Epoch 26/120\n",
            "7/7 [==============================] - 7s 1s/step - loss: 8.1069 - dense_1_loss: 0.6267 - dense_3_loss: 0.9893 - dense_5_loss: 2.0990 - dense_7_loss: 2.3469 - dense_9_loss: 2.0450 - dense_1_accuracy: 0.8135 - dense_3_accuracy: 0.6788 - dense_5_accuracy: 0.3523 - dense_7_accuracy: 0.3057 - dense_9_accuracy: 0.3005 - val_loss: 15.9626 - val_dense_1_loss: 3.2923 - val_dense_3_loss: 2.8729 - val_dense_5_loss: 3.2676 - val_dense_7_loss: 3.3014 - val_dense_9_loss: 3.2284 - val_dense_1_accuracy: 0.3320 - val_dense_3_accuracy: 0.5212 - val_dense_5_accuracy: 0.2227 - val_dense_7_accuracy: 0.2613 - val_dense_9_accuracy: 0.2445\n",
            "Epoch 27/120\n",
            "7/7 [==============================] - 4s 563ms/step - loss: 7.7793 - dense_1_loss: 0.6277 - dense_3_loss: 0.9095 - dense_5_loss: 1.9869 - dense_7_loss: 2.2132 - dense_9_loss: 2.0420 - dense_1_accuracy: 0.7720 - dense_3_accuracy: 0.6839 - dense_5_accuracy: 0.3782 - dense_7_accuracy: 0.3109 - dense_9_accuracy: 0.3834 - val_loss: 15.8462 - val_dense_1_loss: 3.2944 - val_dense_3_loss: 2.8401 - val_dense_5_loss: 3.2132 - val_dense_7_loss: 3.2320 - val_dense_9_loss: 3.2665 - val_dense_1_accuracy: 0.3012 - val_dense_3_accuracy: 0.5431 - val_dense_5_accuracy: 0.2355 - val_dense_7_accuracy: 0.2767 - val_dense_9_accuracy: 0.2497\n",
            "Epoch 28/120\n",
            "7/7 [==============================] - 4s 672ms/step - loss: 7.3177 - dense_1_loss: 0.5712 - dense_3_loss: 0.8459 - dense_5_loss: 1.7723 - dense_7_loss: 2.2121 - dense_9_loss: 1.9163 - dense_1_accuracy: 0.8031 - dense_3_accuracy: 0.6943 - dense_5_accuracy: 0.4352 - dense_7_accuracy: 0.2953 - dense_9_accuracy: 0.3990 - val_loss: 15.7724 - val_dense_1_loss: 3.2855 - val_dense_3_loss: 2.8004 - val_dense_5_loss: 3.1681 - val_dense_7_loss: 3.2819 - val_dense_9_loss: 3.2365 - val_dense_1_accuracy: 0.3089 - val_dense_3_accuracy: 0.5624 - val_dense_5_accuracy: 0.2008 - val_dense_7_accuracy: 0.2291 - val_dense_9_accuracy: 0.2239\n",
            "Epoch 29/120\n",
            "7/7 [==============================] - 8s 1s/step - loss: 7.2455 - dense_1_loss: 0.6174 - dense_3_loss: 0.7583 - dense_5_loss: 1.8804 - dense_7_loss: 2.1083 - dense_9_loss: 1.8810 - dense_1_accuracy: 0.7979 - dense_3_accuracy: 0.7617 - dense_5_accuracy: 0.3679 - dense_7_accuracy: 0.3472 - dense_9_accuracy: 0.3627 - val_loss: 15.6774 - val_dense_1_loss: 3.3166 - val_dense_3_loss: 2.7609 - val_dense_5_loss: 3.1566 - val_dense_7_loss: 3.2302 - val_dense_9_loss: 3.2132 - val_dense_1_accuracy: 0.3012 - val_dense_3_accuracy: 0.4955 - val_dense_5_accuracy: 0.1609 - val_dense_7_accuracy: 0.1956 - val_dense_9_accuracy: 0.2136\n",
            "Epoch 30/120\n",
            "7/7 [==============================] - 4s 553ms/step - loss: 7.0961 - dense_1_loss: 0.5239 - dense_3_loss: 0.7313 - dense_5_loss: 1.8734 - dense_7_loss: 1.9787 - dense_9_loss: 1.9888 - dense_1_accuracy: 0.8290 - dense_3_accuracy: 0.7098 - dense_5_accuracy: 0.3523 - dense_7_accuracy: 0.3731 - dense_9_accuracy: 0.3420 - val_loss: 15.6235 - val_dense_1_loss: 3.2897 - val_dense_3_loss: 2.7854 - val_dense_5_loss: 3.1523 - val_dense_7_loss: 3.1939 - val_dense_9_loss: 3.2021 - val_dense_1_accuracy: 0.3037 - val_dense_3_accuracy: 0.5444 - val_dense_5_accuracy: 0.1686 - val_dense_7_accuracy: 0.2600 - val_dense_9_accuracy: 0.1995\n",
            "Epoch 31/120\n",
            "7/7 [==============================] - 4s 672ms/step - loss: 6.8735 - dense_1_loss: 0.5230 - dense_3_loss: 0.8451 - dense_5_loss: 1.6642 - dense_7_loss: 1.8917 - dense_9_loss: 1.9496 - dense_1_accuracy: 0.7927 - dense_3_accuracy: 0.7098 - dense_5_accuracy: 0.4611 - dense_7_accuracy: 0.4093 - dense_9_accuracy: 0.3575 - val_loss: 15.3066 - val_dense_1_loss: 3.2712 - val_dense_3_loss: 2.6176 - val_dense_5_loss: 3.0622 - val_dense_7_loss: 3.1779 - val_dense_9_loss: 3.1777 - val_dense_1_accuracy: 0.3333 - val_dense_3_accuracy: 0.5856 - val_dense_5_accuracy: 0.2368 - val_dense_7_accuracy: 0.2497 - val_dense_9_accuracy: 0.2329\n",
            "Epoch 32/120\n",
            "7/7 [==============================] - 6s 869ms/step - loss: 6.6501 - dense_1_loss: 0.4935 - dense_3_loss: 0.8376 - dense_5_loss: 1.6820 - dense_7_loss: 1.8532 - dense_9_loss: 1.7837 - dense_1_accuracy: 0.8394 - dense_3_accuracy: 0.7098 - dense_5_accuracy: 0.4508 - dense_7_accuracy: 0.3834 - dense_9_accuracy: 0.4301 - val_loss: 15.1582 - val_dense_1_loss: 3.2998 - val_dense_3_loss: 2.5368 - val_dense_5_loss: 3.0533 - val_dense_7_loss: 3.1124 - val_dense_9_loss: 3.1559 - val_dense_1_accuracy: 0.3166 - val_dense_3_accuracy: 0.5251 - val_dense_5_accuracy: 0.2793 - val_dense_7_accuracy: 0.2754 - val_dense_9_accuracy: 0.2548\n",
            "Epoch 33/120\n",
            "7/7 [==============================] - 4s 691ms/step - loss: 6.3008 - dense_1_loss: 0.4386 - dense_3_loss: 0.6543 - dense_5_loss: 1.6265 - dense_7_loss: 1.7630 - dense_9_loss: 1.8184 - dense_1_accuracy: 0.8394 - dense_3_accuracy: 0.7565 - dense_5_accuracy: 0.3886 - dense_7_accuracy: 0.3679 - dense_9_accuracy: 0.3731 - val_loss: 14.9859 - val_dense_1_loss: 3.3204 - val_dense_3_loss: 2.4797 - val_dense_5_loss: 3.0052 - val_dense_7_loss: 3.0691 - val_dense_9_loss: 3.1115 - val_dense_1_accuracy: 0.3230 - val_dense_3_accuracy: 0.4710 - val_dense_5_accuracy: 0.2407 - val_dense_7_accuracy: 0.2548 - val_dense_9_accuracy: 0.2587\n",
            "Epoch 34/120\n",
            "7/7 [==============================] - 4s 573ms/step - loss: 5.9391 - dense_1_loss: 0.4678 - dense_3_loss: 0.6046 - dense_5_loss: 1.4949 - dense_7_loss: 1.6309 - dense_9_loss: 1.7408 - dense_1_accuracy: 0.8238 - dense_3_accuracy: 0.7824 - dense_5_accuracy: 0.4767 - dense_7_accuracy: 0.4041 - dense_9_accuracy: 0.4301 - val_loss: 14.7944 - val_dense_1_loss: 3.2992 - val_dense_3_loss: 2.4273 - val_dense_5_loss: 3.0142 - val_dense_7_loss: 3.0414 - val_dense_9_loss: 3.0124 - val_dense_1_accuracy: 0.3218 - val_dense_3_accuracy: 0.5689 - val_dense_5_accuracy: 0.2304 - val_dense_7_accuracy: 0.2600 - val_dense_9_accuracy: 0.2716\n",
            "Epoch 35/120\n",
            "7/7 [==============================] - 6s 889ms/step - loss: 5.8057 - dense_1_loss: 0.4646 - dense_3_loss: 0.6270 - dense_5_loss: 1.5095 - dense_7_loss: 1.6916 - dense_9_loss: 1.5131 - dense_1_accuracy: 0.8497 - dense_3_accuracy: 0.7927 - dense_5_accuracy: 0.5026 - dense_7_accuracy: 0.4715 - dense_9_accuracy: 0.4560 - val_loss: 14.4910 - val_dense_1_loss: 3.2759 - val_dense_3_loss: 2.3052 - val_dense_5_loss: 2.9602 - val_dense_7_loss: 2.9823 - val_dense_9_loss: 2.9675 - val_dense_1_accuracy: 0.3050 - val_dense_3_accuracy: 0.5328 - val_dense_5_accuracy: 0.2535 - val_dense_7_accuracy: 0.2690 - val_dense_9_accuracy: 0.2934\n",
            "Epoch 36/120\n",
            "7/7 [==============================] - 4s 678ms/step - loss: 5.8834 - dense_1_loss: 0.4743 - dense_3_loss: 0.4764 - dense_5_loss: 1.6807 - dense_7_loss: 1.6260 - dense_9_loss: 1.6260 - dense_1_accuracy: 0.8290 - dense_3_accuracy: 0.8601 - dense_5_accuracy: 0.4301 - dense_7_accuracy: 0.4145 - dense_9_accuracy: 0.4456 - val_loss: 14.6087 - val_dense_1_loss: 3.2532 - val_dense_3_loss: 2.3289 - val_dense_5_loss: 2.9524 - val_dense_7_loss: 3.0369 - val_dense_9_loss: 3.0373 - val_dense_1_accuracy: 0.3488 - val_dense_3_accuracy: 0.6409 - val_dense_5_accuracy: 0.3346 - val_dense_7_accuracy: 0.3063 - val_dense_9_accuracy: 0.2819\n",
            "Epoch 37/120\n",
            "7/7 [==============================] - 4s 683ms/step - loss: 5.7614 - dense_1_loss: 0.4209 - dense_3_loss: 0.5043 - dense_5_loss: 1.4876 - dense_7_loss: 1.6638 - dense_9_loss: 1.6849 - dense_1_accuracy: 0.8394 - dense_3_accuracy: 0.8497 - dense_5_accuracy: 0.4974 - dense_7_accuracy: 0.4611 - dense_9_accuracy: 0.3886 - val_loss: 14.3804 - val_dense_1_loss: 3.3022 - val_dense_3_loss: 2.2311 - val_dense_5_loss: 2.9168 - val_dense_7_loss: 2.9188 - val_dense_9_loss: 3.0115 - val_dense_1_accuracy: 0.3372 - val_dense_3_accuracy: 0.6190 - val_dense_5_accuracy: 0.3501 - val_dense_7_accuracy: 0.3256 - val_dense_9_accuracy: 0.3050\n",
            "Epoch 38/120\n",
            "7/7 [==============================] - 8s 1s/step - loss: 5.7003 - dense_1_loss: 0.4284 - dense_3_loss: 0.6033 - dense_5_loss: 1.3875 - dense_7_loss: 1.6421 - dense_9_loss: 1.6391 - dense_1_accuracy: 0.8497 - dense_3_accuracy: 0.7565 - dense_5_accuracy: 0.5285 - dense_7_accuracy: 0.4508 - dense_9_accuracy: 0.4404 - val_loss: 14.6117 - val_dense_1_loss: 3.2636 - val_dense_3_loss: 2.3064 - val_dense_5_loss: 2.9510 - val_dense_7_loss: 2.9623 - val_dense_9_loss: 3.1284 - val_dense_1_accuracy: 0.3282 - val_dense_3_accuracy: 0.5882 - val_dense_5_accuracy: 0.3668 - val_dense_7_accuracy: 0.2909 - val_dense_9_accuracy: 0.2368\n",
            "Epoch 39/120\n",
            "7/7 [==============================] - 4s 668ms/step - loss: 5.2430 - dense_1_loss: 0.4182 - dense_3_loss: 0.5002 - dense_5_loss: 1.2437 - dense_7_loss: 1.5526 - dense_9_loss: 1.5283 - dense_1_accuracy: 0.8912 - dense_3_accuracy: 0.8135 - dense_5_accuracy: 0.5907 - dense_7_accuracy: 0.4767 - dense_9_accuracy: 0.4404 - val_loss: 14.1357 - val_dense_1_loss: 3.3209 - val_dense_3_loss: 2.1659 - val_dense_5_loss: 2.7494 - val_dense_7_loss: 2.9500 - val_dense_9_loss: 2.9495 - val_dense_1_accuracy: 0.3436 - val_dense_3_accuracy: 0.5483 - val_dense_5_accuracy: 0.3012 - val_dense_7_accuracy: 0.2638 - val_dense_9_accuracy: 0.2857\n",
            "Epoch 40/120\n",
            "7/7 [==============================] - 7s 1s/step - loss: 5.1551 - dense_1_loss: 0.3988 - dense_3_loss: 0.3946 - dense_5_loss: 1.3247 - dense_7_loss: 1.5526 - dense_9_loss: 1.4844 - dense_1_accuracy: 0.8756 - dense_3_accuracy: 0.8601 - dense_5_accuracy: 0.5751 - dense_7_accuracy: 0.4404 - dense_9_accuracy: 0.4663 - val_loss: 13.9194 - val_dense_1_loss: 3.2875 - val_dense_3_loss: 2.1161 - val_dense_5_loss: 2.7781 - val_dense_7_loss: 2.9078 - val_dense_9_loss: 2.8299 - val_dense_1_accuracy: 0.3642 - val_dense_3_accuracy: 0.6332 - val_dense_5_accuracy: 0.3050 - val_dense_7_accuracy: 0.3436 - val_dense_9_accuracy: 0.3230\n",
            "Epoch 41/120\n",
            "7/7 [==============================] - 4s 671ms/step - loss: 5.2634 - dense_1_loss: 0.3315 - dense_3_loss: 0.5259 - dense_5_loss: 1.4872 - dense_7_loss: 1.5131 - dense_9_loss: 1.4058 - dense_1_accuracy: 0.8964 - dense_3_accuracy: 0.8187 - dense_5_accuracy: 0.5337 - dense_7_accuracy: 0.4456 - dense_9_accuracy: 0.4870 - val_loss: 13.9172 - val_dense_1_loss: 3.3447 - val_dense_3_loss: 2.1379 - val_dense_5_loss: 2.7770 - val_dense_7_loss: 2.8388 - val_dense_9_loss: 2.8189 - val_dense_1_accuracy: 0.3539 - val_dense_3_accuracy: 0.6409 - val_dense_5_accuracy: 0.3372 - val_dense_7_accuracy: 0.3552 - val_dense_9_accuracy: 0.3153\n",
            "Epoch 42/120\n",
            "7/7 [==============================] - 4s 541ms/step - loss: 5.0265 - dense_1_loss: 0.3362 - dense_3_loss: 0.5336 - dense_5_loss: 1.3081 - dense_7_loss: 1.3679 - dense_9_loss: 1.4808 - dense_1_accuracy: 0.8756 - dense_3_accuracy: 0.8290 - dense_5_accuracy: 0.5492 - dense_7_accuracy: 0.5233 - dense_9_accuracy: 0.4611 - val_loss: 14.0658 - val_dense_1_loss: 3.3726 - val_dense_3_loss: 2.2017 - val_dense_5_loss: 2.8168 - val_dense_7_loss: 2.8066 - val_dense_9_loss: 2.8682 - val_dense_1_accuracy: 0.3642 - val_dense_3_accuracy: 0.6422 - val_dense_5_accuracy: 0.3629 - val_dense_7_accuracy: 0.3552 - val_dense_9_accuracy: 0.3475\n",
            "Epoch 43/120\n",
            "7/7 [==============================] - 7s 1s/step - loss: 4.6731 - dense_1_loss: 0.3846 - dense_3_loss: 0.3757 - dense_5_loss: 1.1948 - dense_7_loss: 1.3864 - dense_9_loss: 1.3316 - dense_1_accuracy: 0.8342 - dense_3_accuracy: 0.8808 - dense_5_accuracy: 0.6010 - dense_7_accuracy: 0.5181 - dense_9_accuracy: 0.5285 - val_loss: 13.8775 - val_dense_1_loss: 3.4189 - val_dense_3_loss: 2.1071 - val_dense_5_loss: 2.7478 - val_dense_7_loss: 2.7552 - val_dense_9_loss: 2.8485 - val_dense_1_accuracy: 0.3552 - val_dense_3_accuracy: 0.6049 - val_dense_5_accuracy: 0.3784 - val_dense_7_accuracy: 0.3449 - val_dense_9_accuracy: 0.3501\n",
            "Epoch 44/120\n",
            "7/7 [==============================] - 4s 683ms/step - loss: 4.9039 - dense_1_loss: 0.3506 - dense_3_loss: 0.5779 - dense_5_loss: 1.2700 - dense_7_loss: 1.4148 - dense_9_loss: 1.2906 - dense_1_accuracy: 0.8756 - dense_3_accuracy: 0.7876 - dense_5_accuracy: 0.5959 - dense_7_accuracy: 0.4870 - dense_9_accuracy: 0.5285 - val_loss: 13.5544 - val_dense_1_loss: 3.4511 - val_dense_3_loss: 1.9641 - val_dense_5_loss: 2.6708 - val_dense_7_loss: 2.7285 - val_dense_9_loss: 2.7400 - val_dense_1_accuracy: 0.3526 - val_dense_3_accuracy: 0.6358 - val_dense_5_accuracy: 0.3514 - val_dense_7_accuracy: 0.3642 - val_dense_9_accuracy: 0.3591\n",
            "Epoch 45/120\n",
            "7/7 [==============================] - 4s 670ms/step - loss: 4.8215 - dense_1_loss: 0.3521 - dense_3_loss: 0.5482 - dense_5_loss: 1.2437 - dense_7_loss: 1.3785 - dense_9_loss: 1.2991 - dense_1_accuracy: 0.8601 - dense_3_accuracy: 0.8031 - dense_5_accuracy: 0.5751 - dense_7_accuracy: 0.5026 - dense_9_accuracy: 0.5337 - val_loss: 13.4504 - val_dense_1_loss: 3.5394 - val_dense_3_loss: 1.9335 - val_dense_5_loss: 2.5193 - val_dense_7_loss: 2.7360 - val_dense_9_loss: 2.7221 - val_dense_1_accuracy: 0.3462 - val_dense_3_accuracy: 0.5508 - val_dense_5_accuracy: 0.3578 - val_dense_7_accuracy: 0.3501 - val_dense_9_accuracy: 0.3050\n",
            "Epoch 46/120\n",
            "7/7 [==============================] - 6s 887ms/step - loss: 4.7494 - dense_1_loss: 0.4065 - dense_3_loss: 0.4669 - dense_5_loss: 1.2644 - dense_7_loss: 1.4020 - dense_9_loss: 1.2096 - dense_1_accuracy: 0.8446 - dense_3_accuracy: 0.8238 - dense_5_accuracy: 0.5959 - dense_7_accuracy: 0.5440 - dense_9_accuracy: 0.5648 - val_loss: 13.4690 - val_dense_1_loss: 3.6714 - val_dense_3_loss: 1.8580 - val_dense_5_loss: 2.4650 - val_dense_7_loss: 2.6961 - val_dense_9_loss: 2.7785 - val_dense_1_accuracy: 0.3475 - val_dense_3_accuracy: 0.5985 - val_dense_5_accuracy: 0.3990 - val_dense_7_accuracy: 0.3153 - val_dense_9_accuracy: 0.2793\n",
            "Epoch 47/120\n",
            "7/7 [==============================] - 4s 560ms/step - loss: 4.9218 - dense_1_loss: 0.4599 - dense_3_loss: 0.6198 - dense_5_loss: 1.1594 - dense_7_loss: 1.3004 - dense_9_loss: 1.3823 - dense_1_accuracy: 0.8290 - dense_3_accuracy: 0.7876 - dense_5_accuracy: 0.6425 - dense_7_accuracy: 0.5544 - dense_9_accuracy: 0.5026 - val_loss: 13.3300 - val_dense_1_loss: 3.5250 - val_dense_3_loss: 1.8642 - val_dense_5_loss: 2.5152 - val_dense_7_loss: 2.7075 - val_dense_9_loss: 2.7180 - val_dense_1_accuracy: 0.3745 - val_dense_3_accuracy: 0.6319 - val_dense_5_accuracy: 0.3822 - val_dense_7_accuracy: 0.3243 - val_dense_9_accuracy: 0.3269\n",
            "Epoch 48/120\n",
            "7/7 [==============================] - 4s 666ms/step - loss: 4.1691 - dense_1_loss: 0.2578 - dense_3_loss: 0.4436 - dense_5_loss: 1.0155 - dense_7_loss: 1.2939 - dense_9_loss: 1.1583 - dense_1_accuracy: 0.9171 - dense_3_accuracy: 0.8549 - dense_5_accuracy: 0.6425 - dense_7_accuracy: 0.5440 - dense_9_accuracy: 0.6010 - val_loss: 12.9928 - val_dense_1_loss: 3.5716 - val_dense_3_loss: 1.7499 - val_dense_5_loss: 2.4793 - val_dense_7_loss: 2.6454 - val_dense_9_loss: 2.5465 - val_dense_1_accuracy: 0.3719 - val_dense_3_accuracy: 0.5946 - val_dense_5_accuracy: 0.3668 - val_dense_7_accuracy: 0.3282 - val_dense_9_accuracy: 0.3771\n",
            "Epoch 49/120\n",
            "7/7 [==============================] - 6s 927ms/step - loss: 4.2069 - dense_1_loss: 0.2296 - dense_3_loss: 0.4313 - dense_5_loss: 0.9082 - dense_7_loss: 1.4313 - dense_9_loss: 1.2065 - dense_1_accuracy: 0.9326 - dense_3_accuracy: 0.8601 - dense_5_accuracy: 0.6580 - dense_7_accuracy: 0.4663 - dense_9_accuracy: 0.5389 - val_loss: 13.0065 - val_dense_1_loss: 3.4386 - val_dense_3_loss: 1.7885 - val_dense_5_loss: 2.5010 - val_dense_7_loss: 2.6897 - val_dense_9_loss: 2.5887 - val_dense_1_accuracy: 0.3784 - val_dense_3_accuracy: 0.6126 - val_dense_5_accuracy: 0.4260 - val_dense_7_accuracy: 0.3539 - val_dense_9_accuracy: 0.3822\n",
            "Epoch 50/120\n",
            "7/7 [==============================] - 4s 688ms/step - loss: 4.1083 - dense_1_loss: 0.2856 - dense_3_loss: 0.3989 - dense_5_loss: 0.9851 - dense_7_loss: 1.2826 - dense_9_loss: 1.1562 - dense_1_accuracy: 0.8964 - dense_3_accuracy: 0.8756 - dense_5_accuracy: 0.6321 - dense_7_accuracy: 0.5751 - dense_9_accuracy: 0.5648 - val_loss: 12.8380 - val_dense_1_loss: 3.7882 - val_dense_3_loss: 1.6322 - val_dense_5_loss: 2.3705 - val_dense_7_loss: 2.5607 - val_dense_9_loss: 2.4865 - val_dense_1_accuracy: 0.3784 - val_dense_3_accuracy: 0.6628 - val_dense_5_accuracy: 0.4723 - val_dense_7_accuracy: 0.3591 - val_dense_9_accuracy: 0.3951\n",
            "Epoch 51/120\n",
            "7/7 [==============================] - 4s 672ms/step - loss: 4.2657 - dense_1_loss: 0.3191 - dense_3_loss: 0.4672 - dense_5_loss: 0.9716 - dense_7_loss: 1.3133 - dense_9_loss: 1.1946 - dense_1_accuracy: 0.8705 - dense_3_accuracy: 0.8342 - dense_5_accuracy: 0.6269 - dense_7_accuracy: 0.5389 - dense_9_accuracy: 0.5544 - val_loss: 12.6824 - val_dense_1_loss: 4.0292 - val_dense_3_loss: 1.5090 - val_dense_5_loss: 2.2384 - val_dense_7_loss: 2.4291 - val_dense_9_loss: 2.4768 - val_dense_1_accuracy: 0.3616 - val_dense_3_accuracy: 0.7014 - val_dense_5_accuracy: 0.4607 - val_dense_7_accuracy: 0.3501 - val_dense_9_accuracy: 0.3887\n",
            "Epoch 52/120\n",
            "7/7 [==============================] - 6s 927ms/step - loss: 4.1239 - dense_1_loss: 0.2501 - dense_3_loss: 0.4450 - dense_5_loss: 1.0135 - dense_7_loss: 1.3031 - dense_9_loss: 1.1121 - dense_1_accuracy: 0.9171 - dense_3_accuracy: 0.8342 - dense_5_accuracy: 0.6373 - dense_7_accuracy: 0.5440 - dense_9_accuracy: 0.5492 - val_loss: 12.6844 - val_dense_1_loss: 4.1577 - val_dense_3_loss: 1.4792 - val_dense_5_loss: 2.1836 - val_dense_7_loss: 2.4268 - val_dense_9_loss: 2.4370 - val_dense_1_accuracy: 0.3629 - val_dense_3_accuracy: 0.6782 - val_dense_5_accuracy: 0.4183 - val_dense_7_accuracy: 0.3578 - val_dense_9_accuracy: 0.3925\n",
            "Epoch 53/120\n",
            "7/7 [==============================] - 4s 550ms/step - loss: 4.1446 - dense_1_loss: 0.2636 - dense_3_loss: 0.4622 - dense_5_loss: 0.9587 - dense_7_loss: 1.3604 - dense_9_loss: 1.0997 - dense_1_accuracy: 0.9119 - dense_3_accuracy: 0.8342 - dense_5_accuracy: 0.6477 - dense_7_accuracy: 0.4767 - dense_9_accuracy: 0.6062 - val_loss: 12.5812 - val_dense_1_loss: 4.1279 - val_dense_3_loss: 1.4476 - val_dense_5_loss: 2.1857 - val_dense_7_loss: 2.4124 - val_dense_9_loss: 2.4076 - val_dense_1_accuracy: 0.3694 - val_dense_3_accuracy: 0.6821 - val_dense_5_accuracy: 0.4054 - val_dense_7_accuracy: 0.3668 - val_dense_9_accuracy: 0.3797\n",
            "Epoch 54/120\n",
            "7/7 [==============================] - 4s 638ms/step - loss: 4.0442 - dense_1_loss: 0.2585 - dense_3_loss: 0.2670 - dense_5_loss: 0.9834 - dense_7_loss: 1.3839 - dense_9_loss: 1.1513 - dense_1_accuracy: 0.9171 - dense_3_accuracy: 0.9275 - dense_5_accuracy: 0.6477 - dense_7_accuracy: 0.5026 - dense_9_accuracy: 0.5337 - val_loss: 12.3831 - val_dense_1_loss: 3.7245 - val_dense_3_loss: 1.4789 - val_dense_5_loss: 2.2798 - val_dense_7_loss: 2.4638 - val_dense_9_loss: 2.4361 - val_dense_1_accuracy: 0.3732 - val_dense_3_accuracy: 0.6319 - val_dense_5_accuracy: 0.4234 - val_dense_7_accuracy: 0.3514 - val_dense_9_accuracy: 0.3616\n",
            "Epoch 55/120\n",
            "7/7 [==============================] - 5s 721ms/step - loss: 3.8312 - dense_1_loss: 0.2639 - dense_3_loss: 0.3815 - dense_5_loss: 0.8236 - dense_7_loss: 1.0900 - dense_9_loss: 1.2721 - dense_1_accuracy: 0.9016 - dense_3_accuracy: 0.8601 - dense_5_accuracy: 0.7047 - dense_7_accuracy: 0.6269 - dense_9_accuracy: 0.5389 - val_loss: 12.5526 - val_dense_1_loss: 4.2998 - val_dense_3_loss: 1.3740 - val_dense_5_loss: 2.1553 - val_dense_7_loss: 2.4028 - val_dense_9_loss: 2.3207 - val_dense_1_accuracy: 0.3282 - val_dense_3_accuracy: 0.6113 - val_dense_5_accuracy: 0.4157 - val_dense_7_accuracy: 0.2870 - val_dense_9_accuracy: 0.3642\n",
            "Epoch 56/120\n",
            "7/7 [==============================] - 5s 817ms/step - loss: 4.0891 - dense_1_loss: 0.3471 - dense_3_loss: 0.4133 - dense_5_loss: 0.8663 - dense_7_loss: 1.2650 - dense_9_loss: 1.1973 - dense_1_accuracy: 0.8705 - dense_3_accuracy: 0.8549 - dense_5_accuracy: 0.6684 - dense_7_accuracy: 0.5648 - dense_9_accuracy: 0.5648 - val_loss: 12.2599 - val_dense_1_loss: 4.2044 - val_dense_3_loss: 1.3078 - val_dense_5_loss: 2.0550 - val_dense_7_loss: 2.3998 - val_dense_9_loss: 2.2929 - val_dense_1_accuracy: 0.3501 - val_dense_3_accuracy: 0.6486 - val_dense_5_accuracy: 0.4569 - val_dense_7_accuracy: 0.2934 - val_dense_9_accuracy: 0.3629\n",
            "Epoch 57/120\n",
            "7/7 [==============================] - 4s 679ms/step - loss: 3.5787 - dense_1_loss: 0.2396 - dense_3_loss: 0.3498 - dense_5_loss: 0.7479 - dense_7_loss: 1.0916 - dense_9_loss: 1.1498 - dense_1_accuracy: 0.8808 - dense_3_accuracy: 0.8808 - dense_5_accuracy: 0.7150 - dense_7_accuracy: 0.6218 - dense_9_accuracy: 0.5751 - val_loss: 12.6380 - val_dense_1_loss: 4.3249 - val_dense_3_loss: 1.3476 - val_dense_5_loss: 2.0652 - val_dense_7_loss: 2.5317 - val_dense_9_loss: 2.3687 - val_dense_1_accuracy: 0.3179 - val_dense_3_accuracy: 0.6216 - val_dense_5_accuracy: 0.4376 - val_dense_7_accuracy: 0.2677 - val_dense_9_accuracy: 0.3359\n",
            "Epoch 58/120\n",
            "7/7 [==============================] - 7s 1s/step - loss: 3.8686 - dense_1_loss: 0.2246 - dense_3_loss: 0.4047 - dense_5_loss: 0.8340 - dense_7_loss: 1.3598 - dense_9_loss: 1.0455 - dense_1_accuracy: 0.9171 - dense_3_accuracy: 0.8653 - dense_5_accuracy: 0.6891 - dense_7_accuracy: 0.5233 - dense_9_accuracy: 0.6010 - val_loss: 12.7546 - val_dense_1_loss: 4.7143 - val_dense_3_loss: 1.2899 - val_dense_5_loss: 1.9588 - val_dense_7_loss: 2.4533 - val_dense_9_loss: 2.3383 - val_dense_1_accuracy: 0.3230 - val_dense_3_accuracy: 0.6306 - val_dense_5_accuracy: 0.4801 - val_dense_7_accuracy: 0.3063 - val_dense_9_accuracy: 0.3501\n",
            "Epoch 59/120\n",
            "7/7 [==============================] - 4s 565ms/step - loss: 3.5023 - dense_1_loss: 0.1249 - dense_3_loss: 0.3782 - dense_5_loss: 0.8091 - dense_7_loss: 1.1869 - dense_9_loss: 1.0032 - dense_1_accuracy: 0.9482 - dense_3_accuracy: 0.8497 - dense_5_accuracy: 0.7047 - dense_7_accuracy: 0.5751 - dense_9_accuracy: 0.6269 - val_loss: 12.7725 - val_dense_1_loss: 5.0585 - val_dense_3_loss: 1.2103 - val_dense_5_loss: 1.9706 - val_dense_7_loss: 2.3122 - val_dense_9_loss: 2.2208 - val_dense_1_accuracy: 0.3514 - val_dense_3_accuracy: 0.6654 - val_dense_5_accuracy: 0.4801 - val_dense_7_accuracy: 0.3243 - val_dense_9_accuracy: 0.3925\n",
            "Epoch 60/120\n",
            "7/7 [==============================] - 4s 566ms/step - loss: 3.6708 - dense_1_loss: 0.1862 - dense_3_loss: 0.3641 - dense_5_loss: 0.6989 - dense_7_loss: 1.2937 - dense_9_loss: 1.1279 - dense_1_accuracy: 0.9223 - dense_3_accuracy: 0.8705 - dense_5_accuracy: 0.7358 - dense_7_accuracy: 0.5699 - dense_9_accuracy: 0.5959 - val_loss: 12.9921 - val_dense_1_loss: 5.4753 - val_dense_3_loss: 1.1573 - val_dense_5_loss: 1.9289 - val_dense_7_loss: 2.2589 - val_dense_9_loss: 2.1717 - val_dense_1_accuracy: 0.3578 - val_dense_3_accuracy: 0.7027 - val_dense_5_accuracy: 0.4929 - val_dense_7_accuracy: 0.3578 - val_dense_9_accuracy: 0.4196\n",
            "Epoch 61/120\n",
            "7/7 [==============================] - 7s 1s/step - loss: 3.8412 - dense_1_loss: 0.2340 - dense_3_loss: 0.3992 - dense_5_loss: 0.8516 - dense_7_loss: 1.3080 - dense_9_loss: 1.0483 - dense_1_accuracy: 0.9171 - dense_3_accuracy: 0.8653 - dense_5_accuracy: 0.6736 - dense_7_accuracy: 0.5544 - dense_9_accuracy: 0.6269 - val_loss: 12.8881 - val_dense_1_loss: 5.2123 - val_dense_3_loss: 1.1844 - val_dense_5_loss: 1.9408 - val_dense_7_loss: 2.3413 - val_dense_9_loss: 2.2092 - val_dense_1_accuracy: 0.3771 - val_dense_3_accuracy: 0.7104 - val_dense_5_accuracy: 0.5109 - val_dense_7_accuracy: 0.3488 - val_dense_9_accuracy: 0.3732\n",
            "Epoch 62/120\n",
            "7/7 [==============================] - 4s 564ms/step - loss: 3.4375 - dense_1_loss: 0.1769 - dense_3_loss: 0.2569 - dense_5_loss: 0.8279 - dense_7_loss: 1.1594 - dense_9_loss: 1.0163 - dense_1_accuracy: 0.9378 - dense_3_accuracy: 0.8964 - dense_5_accuracy: 0.7098 - dense_7_accuracy: 0.5803 - dense_9_accuracy: 0.6425 - val_loss: 13.6473 - val_dense_1_loss: 5.9685 - val_dense_3_loss: 1.2144 - val_dense_5_loss: 1.9039 - val_dense_7_loss: 2.4022 - val_dense_9_loss: 2.1583 - val_dense_1_accuracy: 0.2947 - val_dense_3_accuracy: 0.6976 - val_dense_5_accuracy: 0.4826 - val_dense_7_accuracy: 0.3243 - val_dense_9_accuracy: 0.3732\n",
            "Epoch 63/120\n",
            "7/7 [==============================] - 4s 689ms/step - loss: 3.6994 - dense_1_loss: 0.3997 - dense_3_loss: 0.3429 - dense_5_loss: 0.7014 - dense_7_loss: 1.1163 - dense_9_loss: 1.1391 - dense_1_accuracy: 0.8497 - dense_3_accuracy: 0.8705 - dense_5_accuracy: 0.7617 - dense_7_accuracy: 0.6269 - dense_9_accuracy: 0.5648 - val_loss: 12.6264 - val_dense_1_loss: 5.1043 - val_dense_3_loss: 1.1479 - val_dense_5_loss: 1.9185 - val_dense_7_loss: 2.3835 - val_dense_9_loss: 2.0724 - val_dense_1_accuracy: 0.3514 - val_dense_3_accuracy: 0.7169 - val_dense_5_accuracy: 0.4749 - val_dense_7_accuracy: 0.3115 - val_dense_9_accuracy: 0.4363\n",
            "Epoch 64/120\n",
            "7/7 [==============================] - 8s 1s/step - loss: 3.3875 - dense_1_loss: 0.2370 - dense_3_loss: 0.2977 - dense_5_loss: 0.7126 - dense_7_loss: 1.1438 - dense_9_loss: 0.9965 - dense_1_accuracy: 0.9171 - dense_3_accuracy: 0.8912 - dense_5_accuracy: 0.7513 - dense_7_accuracy: 0.5699 - dense_9_accuracy: 0.6166 - val_loss: 12.0942 - val_dense_1_loss: 4.4934 - val_dense_3_loss: 1.1629 - val_dense_5_loss: 1.9032 - val_dense_7_loss: 2.3488 - val_dense_9_loss: 2.1859 - val_dense_1_accuracy: 0.3642 - val_dense_3_accuracy: 0.7130 - val_dense_5_accuracy: 0.4865 - val_dense_7_accuracy: 0.3308 - val_dense_9_accuracy: 0.4286\n",
            "Epoch 65/120\n",
            "7/7 [==============================] - 4s 562ms/step - loss: 3.6112 - dense_1_loss: 0.2183 - dense_3_loss: 0.3969 - dense_5_loss: 0.7823 - dense_7_loss: 1.1632 - dense_9_loss: 1.0503 - dense_1_accuracy: 0.9326 - dense_3_accuracy: 0.8497 - dense_5_accuracy: 0.7254 - dense_7_accuracy: 0.6010 - dense_9_accuracy: 0.6062 - val_loss: 12.3399 - val_dense_1_loss: 4.7091 - val_dense_3_loss: 1.1545 - val_dense_5_loss: 1.9483 - val_dense_7_loss: 2.2500 - val_dense_9_loss: 2.2780 - val_dense_1_accuracy: 0.3694 - val_dense_3_accuracy: 0.7053 - val_dense_5_accuracy: 0.4440 - val_dense_7_accuracy: 0.3848 - val_dense_9_accuracy: 0.4221\n",
            "Epoch 66/120\n",
            "7/7 [==============================] - 4s 687ms/step - loss: 3.2214 - dense_1_loss: 0.2200 - dense_3_loss: 0.2491 - dense_5_loss: 0.7700 - dense_7_loss: 0.9917 - dense_9_loss: 0.9906 - dense_1_accuracy: 0.9119 - dense_3_accuracy: 0.9378 - dense_5_accuracy: 0.7358 - dense_7_accuracy: 0.6425 - dense_9_accuracy: 0.6269 - val_loss: 13.1147 - val_dense_1_loss: 5.5172 - val_dense_3_loss: 1.1747 - val_dense_5_loss: 1.8926 - val_dense_7_loss: 2.2399 - val_dense_9_loss: 2.2903 - val_dense_1_accuracy: 0.3565 - val_dense_3_accuracy: 0.6680 - val_dense_5_accuracy: 0.4530 - val_dense_7_accuracy: 0.3655 - val_dense_9_accuracy: 0.4028\n",
            "Epoch 67/120\n",
            "7/7 [==============================] - 6s 909ms/step - loss: 3.2796 - dense_1_loss: 0.1666 - dense_3_loss: 0.3728 - dense_5_loss: 0.7290 - dense_7_loss: 1.0480 - dense_9_loss: 0.9632 - dense_1_accuracy: 0.9223 - dense_3_accuracy: 0.8549 - dense_5_accuracy: 0.6943 - dense_7_accuracy: 0.6062 - dense_9_accuracy: 0.6477 - val_loss: 12.8178 - val_dense_1_loss: 5.3865 - val_dense_3_loss: 1.1649 - val_dense_5_loss: 1.8840 - val_dense_7_loss: 2.2361 - val_dense_9_loss: 2.1462 - val_dense_1_accuracy: 0.3655 - val_dense_3_accuracy: 0.6680 - val_dense_5_accuracy: 0.4633 - val_dense_7_accuracy: 0.3333 - val_dense_9_accuracy: 0.4427\n",
            "Epoch 68/120\n",
            "7/7 [==============================] - 4s 683ms/step - loss: 3.5601 - dense_1_loss: 0.2093 - dense_3_loss: 0.3810 - dense_5_loss: 0.7588 - dense_7_loss: 1.1393 - dense_9_loss: 1.0717 - dense_1_accuracy: 0.9171 - dense_3_accuracy: 0.8497 - dense_5_accuracy: 0.7150 - dense_7_accuracy: 0.5648 - dense_9_accuracy: 0.5803 - val_loss: 12.9657 - val_dense_1_loss: 5.0438 - val_dense_3_loss: 1.5183 - val_dense_5_loss: 1.9198 - val_dense_7_loss: 2.3041 - val_dense_9_loss: 2.1797 - val_dense_1_accuracy: 0.3616 - val_dense_3_accuracy: 0.5560 - val_dense_5_accuracy: 0.4955 - val_dense_7_accuracy: 0.3488 - val_dense_9_accuracy: 0.4028\n",
            "Epoch 69/120\n",
            "7/7 [==============================] - 4s 691ms/step - loss: 3.8046 - dense_1_loss: 0.2168 - dense_3_loss: 0.5367 - dense_5_loss: 0.7453 - dense_7_loss: 1.2469 - dense_9_loss: 1.0588 - dense_1_accuracy: 0.9067 - dense_3_accuracy: 0.8031 - dense_5_accuracy: 0.7409 - dense_7_accuracy: 0.5648 - dense_9_accuracy: 0.6166 - val_loss: 13.3081 - val_dense_1_loss: 5.6413 - val_dense_3_loss: 1.1604 - val_dense_5_loss: 1.8749 - val_dense_7_loss: 2.4778 - val_dense_9_loss: 2.1536 - val_dense_1_accuracy: 0.3604 - val_dense_3_accuracy: 0.6847 - val_dense_5_accuracy: 0.4981 - val_dense_7_accuracy: 0.3050 - val_dense_9_accuracy: 0.4003\n",
            "Epoch 70/120\n",
            "7/7 [==============================] - 6s 932ms/step - loss: 3.2301 - dense_1_loss: 0.2255 - dense_3_loss: 0.4019 - dense_5_loss: 0.7238 - dense_7_loss: 0.9858 - dense_9_loss: 0.8930 - dense_1_accuracy: 0.9119 - dense_3_accuracy: 0.8290 - dense_5_accuracy: 0.6891 - dense_7_accuracy: 0.6477 - dense_9_accuracy: 0.6839 - val_loss: 12.9064 - val_dense_1_loss: 5.3999 - val_dense_3_loss: 1.0348 - val_dense_5_loss: 1.9133 - val_dense_7_loss: 2.4608 - val_dense_9_loss: 2.0976 - val_dense_1_accuracy: 0.3488 - val_dense_3_accuracy: 0.7336 - val_dense_5_accuracy: 0.4775 - val_dense_7_accuracy: 0.3166 - val_dense_9_accuracy: 0.4376\n",
            "Epoch 71/120\n",
            "7/7 [==============================] - 4s 559ms/step - loss: 3.2529 - dense_1_loss: 0.2496 - dense_3_loss: 0.4687 - dense_5_loss: 0.6701 - dense_7_loss: 1.1014 - dense_9_loss: 0.7631 - dense_1_accuracy: 0.8860 - dense_3_accuracy: 0.8290 - dense_5_accuracy: 0.7358 - dense_7_accuracy: 0.6218 - dense_9_accuracy: 0.7098 - val_loss: 12.4700 - val_dense_1_loss: 5.1450 - val_dense_3_loss: 1.0612 - val_dense_5_loss: 1.8450 - val_dense_7_loss: 2.3771 - val_dense_9_loss: 2.0417 - val_dense_1_accuracy: 0.3732 - val_dense_3_accuracy: 0.7156 - val_dense_5_accuracy: 0.4878 - val_dense_7_accuracy: 0.3308 - val_dense_9_accuracy: 0.4414\n",
            "Epoch 72/120\n",
            "7/7 [==============================] - 4s 672ms/step - loss: 3.1316 - dense_1_loss: 0.2435 - dense_3_loss: 0.3183 - dense_5_loss: 0.6269 - dense_7_loss: 0.9366 - dense_9_loss: 1.0063 - dense_1_accuracy: 0.9171 - dense_3_accuracy: 0.8601 - dense_5_accuracy: 0.7824 - dense_7_accuracy: 0.6580 - dense_9_accuracy: 0.6010 - val_loss: 12.8649 - val_dense_1_loss: 5.3647 - val_dense_3_loss: 1.0981 - val_dense_5_loss: 1.8868 - val_dense_7_loss: 2.3867 - val_dense_9_loss: 2.1287 - val_dense_1_accuracy: 0.3797 - val_dense_3_accuracy: 0.7027 - val_dense_5_accuracy: 0.4826 - val_dense_7_accuracy: 0.3436 - val_dense_9_accuracy: 0.4093\n",
            "Epoch 73/120\n",
            "7/7 [==============================] - 7s 1s/step - loss: 3.3130 - dense_1_loss: 0.2321 - dense_3_loss: 0.3638 - dense_5_loss: 0.6741 - dense_7_loss: 1.0527 - dense_9_loss: 0.9903 - dense_1_accuracy: 0.9171 - dense_3_accuracy: 0.8860 - dense_5_accuracy: 0.7772 - dense_7_accuracy: 0.6321 - dense_9_accuracy: 0.6062 - val_loss: 12.9168 - val_dense_1_loss: 5.7515 - val_dense_3_loss: 1.0570 - val_dense_5_loss: 1.8493 - val_dense_7_loss: 2.1878 - val_dense_9_loss: 2.0713 - val_dense_1_accuracy: 0.3810 - val_dense_3_accuracy: 0.7066 - val_dense_5_accuracy: 0.4865 - val_dense_7_accuracy: 0.3861 - val_dense_9_accuracy: 0.4299\n",
            "Epoch 74/120\n",
            "7/7 [==============================] - 4s 669ms/step - loss: 2.9871 - dense_1_loss: 0.1588 - dense_3_loss: 0.3191 - dense_5_loss: 0.5947 - dense_7_loss: 1.0224 - dense_9_loss: 0.8920 - dense_1_accuracy: 0.9430 - dense_3_accuracy: 0.8860 - dense_5_accuracy: 0.7876 - dense_7_accuracy: 0.6218 - dense_9_accuracy: 0.6477 - val_loss: 13.2316 - val_dense_1_loss: 6.0139 - val_dense_3_loss: 1.0156 - val_dense_5_loss: 1.8635 - val_dense_7_loss: 2.2429 - val_dense_9_loss: 2.0957 - val_dense_1_accuracy: 0.3887 - val_dense_3_accuracy: 0.7181 - val_dense_5_accuracy: 0.4955 - val_dense_7_accuracy: 0.3694 - val_dense_9_accuracy: 0.4414\n",
            "Epoch 75/120\n",
            "7/7 [==============================] - 4s 671ms/step - loss: 2.9354 - dense_1_loss: 0.2144 - dense_3_loss: 0.3604 - dense_5_loss: 0.5684 - dense_7_loss: 0.9884 - dense_9_loss: 0.8037 - dense_1_accuracy: 0.9016 - dense_3_accuracy: 0.8653 - dense_5_accuracy: 0.7876 - dense_7_accuracy: 0.6528 - dense_9_accuracy: 0.6891 - val_loss: 13.7588 - val_dense_1_loss: 6.4725 - val_dense_3_loss: 1.0207 - val_dense_5_loss: 1.8048 - val_dense_7_loss: 2.3224 - val_dense_9_loss: 2.1385 - val_dense_1_accuracy: 0.3925 - val_dense_3_accuracy: 0.7091 - val_dense_5_accuracy: 0.5251 - val_dense_7_accuracy: 0.3449 - val_dense_9_accuracy: 0.4363\n",
            "Epoch 76/120\n",
            "7/7 [==============================] - 8s 1s/step - loss: 2.7326 - dense_1_loss: 0.1360 - dense_3_loss: 0.1974 - dense_5_loss: 0.5684 - dense_7_loss: 0.9675 - dense_9_loss: 0.8634 - dense_1_accuracy: 0.9637 - dense_3_accuracy: 0.9430 - dense_5_accuracy: 0.7772 - dense_7_accuracy: 0.6218 - dense_9_accuracy: 0.6528 - val_loss: 13.8041 - val_dense_1_loss: 6.5279 - val_dense_3_loss: 1.0838 - val_dense_5_loss: 1.7532 - val_dense_7_loss: 2.2872 - val_dense_9_loss: 2.1520 - val_dense_1_accuracy: 0.3848 - val_dense_3_accuracy: 0.6885 - val_dense_5_accuracy: 0.5431 - val_dense_7_accuracy: 0.3514 - val_dense_9_accuracy: 0.4247\n",
            "Epoch 77/120\n",
            "7/7 [==============================] - 4s 681ms/step - loss: 2.7546 - dense_1_loss: 0.1880 - dense_3_loss: 0.2437 - dense_5_loss: 0.6607 - dense_7_loss: 0.8465 - dense_9_loss: 0.8157 - dense_1_accuracy: 0.9326 - dense_3_accuracy: 0.9275 - dense_5_accuracy: 0.7150 - dense_7_accuracy: 0.6736 - dense_9_accuracy: 0.6839 - val_loss: 13.7334 - val_dense_1_loss: 6.4557 - val_dense_3_loss: 1.1124 - val_dense_5_loss: 1.7307 - val_dense_7_loss: 2.3056 - val_dense_9_loss: 2.1291 - val_dense_1_accuracy: 0.3874 - val_dense_3_accuracy: 0.6860 - val_dense_5_accuracy: 0.5225 - val_dense_7_accuracy: 0.3616 - val_dense_9_accuracy: 0.4260\n",
            "Epoch 78/120\n",
            "7/7 [==============================] - 5s 801ms/step - loss: 2.8713 - dense_1_loss: 0.1719 - dense_3_loss: 0.2032 - dense_5_loss: 0.5905 - dense_7_loss: 1.0035 - dense_9_loss: 0.9022 - dense_1_accuracy: 0.9378 - dense_3_accuracy: 0.9119 - dense_5_accuracy: 0.7772 - dense_7_accuracy: 0.6321 - dense_9_accuracy: 0.6218 - val_loss: 13.2801 - val_dense_1_loss: 6.0413 - val_dense_3_loss: 1.1116 - val_dense_5_loss: 1.7375 - val_dense_7_loss: 2.2990 - val_dense_9_loss: 2.0907 - val_dense_1_accuracy: 0.3925 - val_dense_3_accuracy: 0.6898 - val_dense_5_accuracy: 0.5238 - val_dense_7_accuracy: 0.3591 - val_dense_9_accuracy: 0.4350\n",
            "Epoch 79/120\n",
            "7/7 [==============================] - 5s 706ms/step - loss: 2.6276 - dense_1_loss: 0.1366 - dense_3_loss: 0.2743 - dense_5_loss: 0.4697 - dense_7_loss: 0.8327 - dense_9_loss: 0.9143 - dense_1_accuracy: 0.9689 - dense_3_accuracy: 0.8964 - dense_5_accuracy: 0.8342 - dense_7_accuracy: 0.6891 - dense_9_accuracy: 0.6891 - val_loss: 13.9352 - val_dense_1_loss: 6.3352 - val_dense_3_loss: 1.1754 - val_dense_5_loss: 1.8493 - val_dense_7_loss: 2.3883 - val_dense_9_loss: 2.1870 - val_dense_1_accuracy: 0.3810 - val_dense_3_accuracy: 0.6628 - val_dense_5_accuracy: 0.4981 - val_dense_7_accuracy: 0.3526 - val_dense_9_accuracy: 0.3977\n",
            "Epoch 80/120\n",
            "7/7 [==============================] - 4s 678ms/step - loss: 2.6942 - dense_1_loss: 0.1498 - dense_3_loss: 0.2263 - dense_5_loss: 0.5217 - dense_7_loss: 0.8164 - dense_9_loss: 0.9800 - dense_1_accuracy: 0.9430 - dense_3_accuracy: 0.9171 - dense_5_accuracy: 0.8135 - dense_7_accuracy: 0.6736 - dense_9_accuracy: 0.6425 - val_loss: 14.5006 - val_dense_1_loss: 6.8238 - val_dense_3_loss: 1.1843 - val_dense_5_loss: 1.8847 - val_dense_7_loss: 2.4492 - val_dense_9_loss: 2.1586 - val_dense_1_accuracy: 0.3835 - val_dense_3_accuracy: 0.6718 - val_dense_5_accuracy: 0.4981 - val_dense_7_accuracy: 0.3655 - val_dense_9_accuracy: 0.4131\n",
            "Epoch 81/120\n",
            "7/7 [==============================] - 4s 670ms/step - loss: 3.2981 - dense_1_loss: 0.1919 - dense_3_loss: 0.2913 - dense_5_loss: 0.6343 - dense_7_loss: 1.3400 - dense_9_loss: 0.8406 - dense_1_accuracy: 0.9326 - dense_3_accuracy: 0.8860 - dense_5_accuracy: 0.7409 - dense_7_accuracy: 0.5285 - dense_9_accuracy: 0.7098 - val_loss: 15.5094 - val_dense_1_loss: 5.9875 - val_dense_3_loss: 1.6211 - val_dense_5_loss: 2.0542 - val_dense_7_loss: 3.2175 - val_dense_9_loss: 2.6292 - val_dense_1_accuracy: 0.3810 - val_dense_3_accuracy: 0.5804 - val_dense_5_accuracy: 0.4106 - val_dense_7_accuracy: 0.2278 - val_dense_9_accuracy: 0.3153\n",
            "Epoch 82/120\n",
            "7/7 [==============================] - 6s 875ms/step - loss: 3.4308 - dense_1_loss: 0.1854 - dense_3_loss: 0.3247 - dense_5_loss: 0.7677 - dense_7_loss: 1.1958 - dense_9_loss: 0.9573 - dense_1_accuracy: 0.9534 - dense_3_accuracy: 0.9016 - dense_5_accuracy: 0.7513 - dense_7_accuracy: 0.5389 - dense_9_accuracy: 0.6218 - val_loss: 16.9968 - val_dense_1_loss: 8.3662 - val_dense_3_loss: 1.6049 - val_dense_5_loss: 1.9827 - val_dense_7_loss: 2.7782 - val_dense_9_loss: 2.2648 - val_dense_1_accuracy: 0.3681 - val_dense_3_accuracy: 0.6113 - val_dense_5_accuracy: 0.4633 - val_dense_7_accuracy: 0.2793 - val_dense_9_accuracy: 0.4118\n",
            "Epoch 83/120\n",
            "7/7 [==============================] - 4s 679ms/step - loss: 3.0405 - dense_1_loss: 0.1457 - dense_3_loss: 0.2844 - dense_5_loss: 0.7013 - dense_7_loss: 0.9920 - dense_9_loss: 0.9171 - dense_1_accuracy: 0.9482 - dense_3_accuracy: 0.9016 - dense_5_accuracy: 0.7565 - dense_7_accuracy: 0.6425 - dense_9_accuracy: 0.6425 - val_loss: 17.8675 - val_dense_1_loss: 9.4701 - val_dense_3_loss: 1.4330 - val_dense_5_loss: 1.8942 - val_dense_7_loss: 2.7444 - val_dense_9_loss: 2.3259 - val_dense_1_accuracy: 0.3758 - val_dense_3_accuracy: 0.6525 - val_dense_5_accuracy: 0.4865 - val_dense_7_accuracy: 0.3012 - val_dense_9_accuracy: 0.4080\n",
            "Epoch 84/120\n",
            "7/7 [==============================] - 4s 674ms/step - loss: 2.8636 - dense_1_loss: 0.1919 - dense_3_loss: 0.2600 - dense_5_loss: 0.5759 - dense_7_loss: 1.0257 - dense_9_loss: 0.8102 - dense_1_accuracy: 0.9171 - dense_3_accuracy: 0.9016 - dense_5_accuracy: 0.7824 - dense_7_accuracy: 0.6062 - dense_9_accuracy: 0.6943 - val_loss: 17.8308 - val_dense_1_loss: 9.6116 - val_dense_3_loss: 1.3167 - val_dense_5_loss: 1.8051 - val_dense_7_loss: 2.7774 - val_dense_9_loss: 2.3200 - val_dense_1_accuracy: 0.3887 - val_dense_3_accuracy: 0.6808 - val_dense_5_accuracy: 0.5328 - val_dense_7_accuracy: 0.3089 - val_dense_9_accuracy: 0.4273\n",
            "Epoch 85/120\n",
            "7/7 [==============================] - 5s 765ms/step - loss: 2.9529 - dense_1_loss: 0.2057 - dense_3_loss: 0.2991 - dense_5_loss: 0.4799 - dense_7_loss: 1.1106 - dense_9_loss: 0.8576 - dense_1_accuracy: 0.9275 - dense_3_accuracy: 0.8756 - dense_5_accuracy: 0.7927 - dense_7_accuracy: 0.5596 - dense_9_accuracy: 0.6684 - val_loss: 16.4394 - val_dense_1_loss: 8.6152 - val_dense_3_loss: 1.1727 - val_dense_5_loss: 1.8352 - val_dense_7_loss: 2.5827 - val_dense_9_loss: 2.2337 - val_dense_1_accuracy: 0.3977 - val_dense_3_accuracy: 0.7027 - val_dense_5_accuracy: 0.5174 - val_dense_7_accuracy: 0.3501 - val_dense_9_accuracy: 0.4389\n",
            "Epoch 86/120\n",
            "7/7 [==============================] - 4s 682ms/step - loss: 2.8229 - dense_1_loss: 0.1343 - dense_3_loss: 0.3486 - dense_5_loss: 0.4872 - dense_7_loss: 1.0058 - dense_9_loss: 0.8470 - dense_1_accuracy: 0.9430 - dense_3_accuracy: 0.8653 - dense_5_accuracy: 0.8031 - dense_7_accuracy: 0.6010 - dense_9_accuracy: 0.6580 - val_loss: 16.2014 - val_dense_1_loss: 8.4828 - val_dense_3_loss: 1.1386 - val_dense_5_loss: 1.9198 - val_dense_7_loss: 2.5064 - val_dense_9_loss: 2.1538 - val_dense_1_accuracy: 0.3848 - val_dense_3_accuracy: 0.7310 - val_dense_5_accuracy: 0.5109 - val_dense_7_accuracy: 0.3719 - val_dense_9_accuracy: 0.4530\n",
            "Epoch 87/120\n",
            "7/7 [==============================] - 4s 569ms/step - loss: 2.6108 - dense_1_loss: 0.1129 - dense_3_loss: 0.2539 - dense_5_loss: 0.4878 - dense_7_loss: 0.9692 - dense_9_loss: 0.7869 - dense_1_accuracy: 0.9637 - dense_3_accuracy: 0.9016 - dense_5_accuracy: 0.8238 - dense_7_accuracy: 0.6580 - dense_9_accuracy: 0.6788 - val_loss: 16.3474 - val_dense_1_loss: 8.5475 - val_dense_3_loss: 1.1082 - val_dense_5_loss: 1.8766 - val_dense_7_loss: 2.7852 - val_dense_9_loss: 2.0299 - val_dense_1_accuracy: 0.3874 - val_dense_3_accuracy: 0.7362 - val_dense_5_accuracy: 0.5225 - val_dense_7_accuracy: 0.3308 - val_dense_9_accuracy: 0.4556\n",
            "Epoch 88/120\n",
            "7/7 [==============================] - 6s 905ms/step - loss: 2.4521 - dense_1_loss: 0.1089 - dense_3_loss: 0.2931 - dense_5_loss: 0.5231 - dense_7_loss: 0.8119 - dense_9_loss: 0.7151 - dense_1_accuracy: 0.9482 - dense_3_accuracy: 0.8912 - dense_5_accuracy: 0.7979 - dense_7_accuracy: 0.7150 - dense_9_accuracy: 0.7358 - val_loss: 16.7306 - val_dense_1_loss: 9.1692 - val_dense_3_loss: 1.0483 - val_dense_5_loss: 1.7549 - val_dense_7_loss: 2.7308 - val_dense_9_loss: 2.0274 - val_dense_1_accuracy: 0.3719 - val_dense_3_accuracy: 0.7465 - val_dense_5_accuracy: 0.5495 - val_dense_7_accuracy: 0.3462 - val_dense_9_accuracy: 0.4659\n",
            "Epoch 89/120\n",
            "7/7 [==============================] - 4s 590ms/step - loss: 2.6391 - dense_1_loss: 0.1577 - dense_3_loss: 0.2389 - dense_5_loss: 0.4116 - dense_7_loss: 1.0650 - dense_9_loss: 0.7658 - dense_1_accuracy: 0.9275 - dense_3_accuracy: 0.8964 - dense_5_accuracy: 0.8653 - dense_7_accuracy: 0.6269 - dense_9_accuracy: 0.7254 - val_loss: 16.1516 - val_dense_1_loss: 8.7573 - val_dense_3_loss: 1.0765 - val_dense_5_loss: 1.7130 - val_dense_7_loss: 2.6024 - val_dense_9_loss: 2.0024 - val_dense_1_accuracy: 0.3616 - val_dense_3_accuracy: 0.7091 - val_dense_5_accuracy: 0.5483 - val_dense_7_accuracy: 0.3668 - val_dense_9_accuracy: 0.4659\n",
            "Epoch 90/120\n",
            "7/7 [==============================] - 4s 558ms/step - loss: 2.7289 - dense_1_loss: 0.1864 - dense_3_loss: 0.3011 - dense_5_loss: 0.5027 - dense_7_loss: 0.9848 - dense_9_loss: 0.7538 - dense_1_accuracy: 0.9223 - dense_3_accuracy: 0.9119 - dense_5_accuracy: 0.8187 - dense_7_accuracy: 0.6218 - dense_9_accuracy: 0.7202 - val_loss: 17.0957 - val_dense_1_loss: 9.4427 - val_dense_3_loss: 1.1778 - val_dense_5_loss: 1.7876 - val_dense_7_loss: 2.5685 - val_dense_9_loss: 2.1191 - val_dense_1_accuracy: 0.3552 - val_dense_3_accuracy: 0.6860 - val_dense_5_accuracy: 0.5457 - val_dense_7_accuracy: 0.3745 - val_dense_9_accuracy: 0.4389\n",
            "Epoch 91/120\n",
            "7/7 [==============================] - 6s 935ms/step - loss: 2.4332 - dense_1_loss: 0.1005 - dense_3_loss: 0.1934 - dense_5_loss: 0.4541 - dense_7_loss: 0.8448 - dense_9_loss: 0.8404 - dense_1_accuracy: 0.9741 - dense_3_accuracy: 0.9275 - dense_5_accuracy: 0.8135 - dense_7_accuracy: 0.6736 - dense_9_accuracy: 0.6580 - val_loss: 18.5710 - val_dense_1_loss: 10.6785 - val_dense_3_loss: 1.2280 - val_dense_5_loss: 1.9090 - val_dense_7_loss: 2.5854 - val_dense_9_loss: 2.1700 - val_dense_1_accuracy: 0.3629 - val_dense_3_accuracy: 0.6898 - val_dense_5_accuracy: 0.5534 - val_dense_7_accuracy: 0.3861 - val_dense_9_accuracy: 0.4440\n",
            "Epoch 92/120\n",
            "7/7 [==============================] - 5s 723ms/step - loss: 2.4898 - dense_1_loss: 0.1687 - dense_3_loss: 0.2471 - dense_5_loss: 0.4741 - dense_7_loss: 0.7775 - dense_9_loss: 0.8223 - dense_1_accuracy: 0.9430 - dense_3_accuracy: 0.8964 - dense_5_accuracy: 0.8083 - dense_7_accuracy: 0.6839 - dense_9_accuracy: 0.6891 - val_loss: 18.7210 - val_dense_1_loss: 10.6975 - val_dense_3_loss: 1.2418 - val_dense_5_loss: 1.9254 - val_dense_7_loss: 2.6273 - val_dense_9_loss: 2.2290 - val_dense_1_accuracy: 0.3694 - val_dense_3_accuracy: 0.7066 - val_dense_5_accuracy: 0.5521 - val_dense_7_accuracy: 0.3745 - val_dense_9_accuracy: 0.4492\n",
            "Epoch 93/120\n",
            "7/7 [==============================] - 4s 691ms/step - loss: 2.4832 - dense_1_loss: 0.1014 - dense_3_loss: 0.2122 - dense_5_loss: 0.4303 - dense_7_loss: 0.9414 - dense_9_loss: 0.7979 - dense_1_accuracy: 0.9637 - dense_3_accuracy: 0.9119 - dense_5_accuracy: 0.8446 - dense_7_accuracy: 0.6632 - dense_9_accuracy: 0.6891 - val_loss: 17.6583 - val_dense_1_loss: 10.0524 - val_dense_3_loss: 1.1922 - val_dense_5_loss: 1.8294 - val_dense_7_loss: 2.5610 - val_dense_9_loss: 2.0234 - val_dense_1_accuracy: 0.3797 - val_dense_3_accuracy: 0.7349 - val_dense_5_accuracy: 0.5495 - val_dense_7_accuracy: 0.3655 - val_dense_9_accuracy: 0.4556\n",
            "Epoch 94/120\n",
            "7/7 [==============================] - 5s 811ms/step - loss: 2.3874 - dense_1_loss: 0.1318 - dense_3_loss: 0.2524 - dense_5_loss: 0.3721 - dense_7_loss: 0.9707 - dense_9_loss: 0.6603 - dense_1_accuracy: 0.9482 - dense_3_accuracy: 0.9119 - dense_5_accuracy: 0.8549 - dense_7_accuracy: 0.6788 - dense_9_accuracy: 0.7306 - val_loss: 17.1175 - val_dense_1_loss: 9.4739 - val_dense_3_loss: 1.1577 - val_dense_5_loss: 1.7753 - val_dense_7_loss: 2.6386 - val_dense_9_loss: 2.0720 - val_dense_1_accuracy: 0.3745 - val_dense_3_accuracy: 0.7452 - val_dense_5_accuracy: 0.5637 - val_dense_7_accuracy: 0.3539 - val_dense_9_accuracy: 0.4505\n",
            "Epoch 95/120\n",
            "7/7 [==============================] - 4s 653ms/step - loss: 2.3535 - dense_1_loss: 0.1945 - dense_3_loss: 0.1928 - dense_5_loss: 0.4470 - dense_7_loss: 0.7528 - dense_9_loss: 0.7665 - dense_1_accuracy: 0.9223 - dense_3_accuracy: 0.9430 - dense_5_accuracy: 0.8187 - dense_7_accuracy: 0.6891 - dense_9_accuracy: 0.6943 - val_loss: 16.9060 - val_dense_1_loss: 9.1808 - val_dense_3_loss: 1.2034 - val_dense_5_loss: 1.8059 - val_dense_7_loss: 2.6754 - val_dense_9_loss: 2.0406 - val_dense_1_accuracy: 0.3694 - val_dense_3_accuracy: 0.7272 - val_dense_5_accuracy: 0.5560 - val_dense_7_accuracy: 0.3295 - val_dense_9_accuracy: 0.4556\n",
            "Epoch 96/120\n",
            "7/7 [==============================] - 4s 690ms/step - loss: 2.3276 - dense_1_loss: 0.1895 - dense_3_loss: 0.2111 - dense_5_loss: 0.4231 - dense_7_loss: 0.7563 - dense_9_loss: 0.7476 - dense_1_accuracy: 0.9171 - dense_3_accuracy: 0.9223 - dense_5_accuracy: 0.8549 - dense_7_accuracy: 0.7098 - dense_9_accuracy: 0.6995 - val_loss: 17.4236 - val_dense_1_loss: 9.5844 - val_dense_3_loss: 1.2211 - val_dense_5_loss: 1.8633 - val_dense_7_loss: 2.6597 - val_dense_9_loss: 2.0950 - val_dense_1_accuracy: 0.3810 - val_dense_3_accuracy: 0.7233 - val_dense_5_accuracy: 0.5521 - val_dense_7_accuracy: 0.3398 - val_dense_9_accuracy: 0.4633\n",
            "Epoch 97/120\n",
            "7/7 [==============================] - 7s 1s/step - loss: 2.3189 - dense_1_loss: 0.1418 - dense_3_loss: 0.1629 - dense_5_loss: 0.4020 - dense_7_loss: 0.8800 - dense_9_loss: 0.7322 - dense_1_accuracy: 0.9378 - dense_3_accuracy: 0.9326 - dense_5_accuracy: 0.8653 - dense_7_accuracy: 0.6632 - dense_9_accuracy: 0.6995 - val_loss: 18.3502 - val_dense_1_loss: 10.4847 - val_dense_3_loss: 1.1886 - val_dense_5_loss: 1.9419 - val_dense_7_loss: 2.6327 - val_dense_9_loss: 2.1024 - val_dense_1_accuracy: 0.3694 - val_dense_3_accuracy: 0.7272 - val_dense_5_accuracy: 0.5457 - val_dense_7_accuracy: 0.3810 - val_dense_9_accuracy: 0.4749\n",
            "Epoch 98/120\n",
            "7/7 [==============================] - 4s 564ms/step - loss: 2.3461 - dense_1_loss: 0.1501 - dense_3_loss: 0.3124 - dense_5_loss: 0.4281 - dense_7_loss: 0.8004 - dense_9_loss: 0.6550 - dense_1_accuracy: 0.9275 - dense_3_accuracy: 0.8860 - dense_5_accuracy: 0.8342 - dense_7_accuracy: 0.6891 - dense_9_accuracy: 0.7306 - val_loss: 19.5503 - val_dense_1_loss: 11.4475 - val_dense_3_loss: 1.3891 - val_dense_5_loss: 1.8946 - val_dense_7_loss: 2.6438 - val_dense_9_loss: 2.1754 - val_dense_1_accuracy: 0.3629 - val_dense_3_accuracy: 0.6988 - val_dense_5_accuracy: 0.5560 - val_dense_7_accuracy: 0.4080 - val_dense_9_accuracy: 0.4620\n",
            "Epoch 99/120\n",
            "7/7 [==============================] - 4s 672ms/step - loss: 2.6701 - dense_1_loss: 0.1280 - dense_3_loss: 0.2634 - dense_5_loss: 0.4390 - dense_7_loss: 0.9492 - dense_9_loss: 0.8905 - dense_1_accuracy: 0.9430 - dense_3_accuracy: 0.9223 - dense_5_accuracy: 0.8135 - dense_7_accuracy: 0.6425 - dense_9_accuracy: 0.6425 - val_loss: 21.1090 - val_dense_1_loss: 12.4497 - val_dense_3_loss: 1.5287 - val_dense_5_loss: 2.0322 - val_dense_7_loss: 2.8664 - val_dense_9_loss: 2.2321 - val_dense_1_accuracy: 0.3707 - val_dense_3_accuracy: 0.6718 - val_dense_5_accuracy: 0.5418 - val_dense_7_accuracy: 0.3951 - val_dense_9_accuracy: 0.4620\n",
            "Epoch 100/120\n",
            "7/7 [==============================] - 8s 1s/step - loss: 2.3382 - dense_1_loss: 0.0835 - dense_3_loss: 0.2665 - dense_5_loss: 0.4129 - dense_7_loss: 0.8173 - dense_9_loss: 0.7580 - dense_1_accuracy: 0.9637 - dense_3_accuracy: 0.8912 - dense_5_accuracy: 0.8342 - dense_7_accuracy: 0.6788 - dense_9_accuracy: 0.7254 - val_loss: 21.5326 - val_dense_1_loss: 12.2884 - val_dense_3_loss: 1.6779 - val_dense_5_loss: 2.2116 - val_dense_7_loss: 2.8209 - val_dense_9_loss: 2.5337 - val_dense_1_accuracy: 0.3719 - val_dense_3_accuracy: 0.6448 - val_dense_5_accuracy: 0.5109 - val_dense_7_accuracy: 0.3784 - val_dense_9_accuracy: 0.4273\n",
            "Epoch 101/120\n",
            "7/7 [==============================] - 4s 692ms/step - loss: 2.5281 - dense_1_loss: 0.1652 - dense_3_loss: 0.1864 - dense_5_loss: 0.4171 - dense_7_loss: 0.9211 - dense_9_loss: 0.8382 - dense_1_accuracy: 0.9326 - dense_3_accuracy: 0.9223 - dense_5_accuracy: 0.8342 - dense_7_accuracy: 0.6477 - dense_9_accuracy: 0.7254 - val_loss: 21.9506 - val_dense_1_loss: 12.2188 - val_dense_3_loss: 1.7251 - val_dense_5_loss: 2.3278 - val_dense_7_loss: 2.8837 - val_dense_9_loss: 2.7952 - val_dense_1_accuracy: 0.3797 - val_dense_3_accuracy: 0.6448 - val_dense_5_accuracy: 0.4994 - val_dense_7_accuracy: 0.3848 - val_dense_9_accuracy: 0.4118\n",
            "Epoch 102/120\n",
            "7/7 [==============================] - 4s 676ms/step - loss: 2.3817 - dense_1_loss: 0.1698 - dense_3_loss: 0.1849 - dense_5_loss: 0.3752 - dense_7_loss: 0.8801 - dense_9_loss: 0.7716 - dense_1_accuracy: 0.9326 - dense_3_accuracy: 0.9275 - dense_5_accuracy: 0.8394 - dense_7_accuracy: 0.6943 - dense_9_accuracy: 0.6995 - val_loss: 19.5065 - val_dense_1_loss: 10.8685 - val_dense_3_loss: 1.4202 - val_dense_5_loss: 2.2402 - val_dense_7_loss: 2.7344 - val_dense_9_loss: 2.2431 - val_dense_1_accuracy: 0.3810 - val_dense_3_accuracy: 0.6976 - val_dense_5_accuracy: 0.5109 - val_dense_7_accuracy: 0.4093 - val_dense_9_accuracy: 0.4530\n",
            "Epoch 103/120\n",
            "7/7 [==============================] - 6s 921ms/step - loss: 2.3258 - dense_1_loss: 0.1320 - dense_3_loss: 0.1780 - dense_5_loss: 0.4384 - dense_7_loss: 0.8321 - dense_9_loss: 0.7454 - dense_1_accuracy: 0.9534 - dense_3_accuracy: 0.9378 - dense_5_accuracy: 0.8342 - dense_7_accuracy: 0.6684 - dense_9_accuracy: 0.6891 - val_loss: 19.5721 - val_dense_1_loss: 10.8727 - val_dense_3_loss: 1.3493 - val_dense_5_loss: 2.1929 - val_dense_7_loss: 2.7368 - val_dense_9_loss: 2.4203 - val_dense_1_accuracy: 0.3822 - val_dense_3_accuracy: 0.7091 - val_dense_5_accuracy: 0.5122 - val_dense_7_accuracy: 0.4118 - val_dense_9_accuracy: 0.4440\n",
            "Epoch 104/120\n",
            "7/7 [==============================] - 4s 678ms/step - loss: 2.2885 - dense_1_loss: 0.1495 - dense_3_loss: 0.1906 - dense_5_loss: 0.3596 - dense_7_loss: 0.8419 - dense_9_loss: 0.7469 - dense_1_accuracy: 0.9378 - dense_3_accuracy: 0.9067 - dense_5_accuracy: 0.8549 - dense_7_accuracy: 0.7047 - dense_9_accuracy: 0.7047 - val_loss: 19.8841 - val_dense_1_loss: 11.1519 - val_dense_3_loss: 1.3661 - val_dense_5_loss: 2.0430 - val_dense_7_loss: 2.6852 - val_dense_9_loss: 2.6378 - val_dense_1_accuracy: 0.3681 - val_dense_3_accuracy: 0.6834 - val_dense_5_accuracy: 0.4903 - val_dense_7_accuracy: 0.3912 - val_dense_9_accuracy: 0.4041\n",
            "Epoch 105/120\n",
            "7/7 [==============================] - 4s 677ms/step - loss: 2.4292 - dense_1_loss: 0.1613 - dense_3_loss: 0.1794 - dense_5_loss: 0.3969 - dense_7_loss: 0.8673 - dense_9_loss: 0.8244 - dense_1_accuracy: 0.9326 - dense_3_accuracy: 0.9171 - dense_5_accuracy: 0.8497 - dense_7_accuracy: 0.6788 - dense_9_accuracy: 0.6736 - val_loss: 20.4287 - val_dense_1_loss: 11.2853 - val_dense_3_loss: 1.3314 - val_dense_5_loss: 2.0012 - val_dense_7_loss: 3.2895 - val_dense_9_loss: 2.5212 - val_dense_1_accuracy: 0.3784 - val_dense_3_accuracy: 0.6847 - val_dense_5_accuracy: 0.5174 - val_dense_7_accuracy: 0.3192 - val_dense_9_accuracy: 0.4157\n",
            "Epoch 106/120\n",
            "7/7 [==============================] - 6s 885ms/step - loss: 2.6129 - dense_1_loss: 0.1226 - dense_3_loss: 0.2357 - dense_5_loss: 0.3673 - dense_7_loss: 0.9287 - dense_9_loss: 0.9586 - dense_1_accuracy: 0.9482 - dense_3_accuracy: 0.9119 - dense_5_accuracy: 0.8601 - dense_7_accuracy: 0.6580 - dense_9_accuracy: 0.6788 - val_loss: 18.3644 - val_dense_1_loss: 9.6196 - val_dense_3_loss: 1.2772 - val_dense_5_loss: 1.9243 - val_dense_7_loss: 3.1998 - val_dense_9_loss: 2.3436 - val_dense_1_accuracy: 0.3797 - val_dense_3_accuracy: 0.6963 - val_dense_5_accuracy: 0.5367 - val_dense_7_accuracy: 0.2921 - val_dense_9_accuracy: 0.4208\n",
            "Epoch 107/120\n",
            "7/7 [==============================] - 4s 697ms/step - loss: 2.1938 - dense_1_loss: 0.0910 - dense_3_loss: 0.2517 - dense_5_loss: 0.3126 - dense_7_loss: 0.7152 - dense_9_loss: 0.8234 - dense_1_accuracy: 0.9637 - dense_3_accuracy: 0.9119 - dense_5_accuracy: 0.8912 - dense_7_accuracy: 0.7150 - dense_9_accuracy: 0.6788 - val_loss: 18.6724 - val_dense_1_loss: 10.1202 - val_dense_3_loss: 1.2533 - val_dense_5_loss: 2.0148 - val_dense_7_loss: 2.8420 - val_dense_9_loss: 2.4420 - val_dense_1_accuracy: 0.3848 - val_dense_3_accuracy: 0.7181 - val_dense_5_accuracy: 0.5418 - val_dense_7_accuracy: 0.3475 - val_dense_9_accuracy: 0.4324\n",
            "Epoch 108/120\n",
            "7/7 [==============================] - 4s 678ms/step - loss: 2.0929 - dense_1_loss: 0.0796 - dense_3_loss: 0.1616 - dense_5_loss: 0.4159 - dense_7_loss: 0.7140 - dense_9_loss: 0.7219 - dense_1_accuracy: 0.9845 - dense_3_accuracy: 0.9482 - dense_5_accuracy: 0.8549 - dense_7_accuracy: 0.7306 - dense_9_accuracy: 0.7306 - val_loss: 19.5297 - val_dense_1_loss: 10.9916 - val_dense_3_loss: 1.3145 - val_dense_5_loss: 2.0772 - val_dense_7_loss: 2.7242 - val_dense_9_loss: 2.4223 - val_dense_1_accuracy: 0.3822 - val_dense_3_accuracy: 0.7130 - val_dense_5_accuracy: 0.5495 - val_dense_7_accuracy: 0.3977 - val_dense_9_accuracy: 0.4389\n",
            "Epoch 109/120\n",
            "7/7 [==============================] - 6s 915ms/step - loss: 2.2548 - dense_1_loss: 0.1127 - dense_3_loss: 0.1931 - dense_5_loss: 0.3178 - dense_7_loss: 0.8541 - dense_9_loss: 0.7771 - dense_1_accuracy: 0.9637 - dense_3_accuracy: 0.9171 - dense_5_accuracy: 0.8756 - dense_7_accuracy: 0.6788 - dense_9_accuracy: 0.6788 - val_loss: 20.0573 - val_dense_1_loss: 11.4932 - val_dense_3_loss: 1.2837 - val_dense_5_loss: 2.1666 - val_dense_7_loss: 2.7494 - val_dense_9_loss: 2.3645 - val_dense_1_accuracy: 0.3848 - val_dense_3_accuracy: 0.7336 - val_dense_5_accuracy: 0.5418 - val_dense_7_accuracy: 0.4067 - val_dense_9_accuracy: 0.4492\n",
            "Epoch 110/120\n",
            "7/7 [==============================] - 4s 555ms/step - loss: 2.0251 - dense_1_loss: 0.1132 - dense_3_loss: 0.1912 - dense_5_loss: 0.2665 - dense_7_loss: 0.7368 - dense_9_loss: 0.7175 - dense_1_accuracy: 0.9430 - dense_3_accuracy: 0.9223 - dense_5_accuracy: 0.9016 - dense_7_accuracy: 0.6995 - dense_9_accuracy: 0.6943 - val_loss: 21.0142 - val_dense_1_loss: 12.4705 - val_dense_3_loss: 1.1661 - val_dense_5_loss: 2.2972 - val_dense_7_loss: 2.8451 - val_dense_9_loss: 2.2353 - val_dense_1_accuracy: 0.3861 - val_dense_3_accuracy: 0.7568 - val_dense_5_accuracy: 0.5393 - val_dense_7_accuracy: 0.4350 - val_dense_9_accuracy: 0.4685\n",
            "Epoch 111/120\n",
            "7/7 [==============================] - 4s 680ms/step - loss: 2.0781 - dense_1_loss: 0.1464 - dense_3_loss: 0.1538 - dense_5_loss: 0.3649 - dense_7_loss: 0.7094 - dense_9_loss: 0.7036 - dense_1_accuracy: 0.9223 - dense_3_accuracy: 0.9378 - dense_5_accuracy: 0.8653 - dense_7_accuracy: 0.7461 - dense_9_accuracy: 0.7098 - val_loss: 20.8138 - val_dense_1_loss: 12.2540 - val_dense_3_loss: 1.1492 - val_dense_5_loss: 2.2270 - val_dense_7_loss: 2.9701 - val_dense_9_loss: 2.2134 - val_dense_1_accuracy: 0.3822 - val_dense_3_accuracy: 0.7503 - val_dense_5_accuracy: 0.5418 - val_dense_7_accuracy: 0.3900 - val_dense_9_accuracy: 0.4788\n",
            "Epoch 112/120\n",
            "7/7 [==============================] - 6s 932ms/step - loss: 2.0277 - dense_1_loss: 0.0748 - dense_3_loss: 0.2410 - dense_5_loss: 0.2977 - dense_7_loss: 0.7876 - dense_9_loss: 0.6266 - dense_1_accuracy: 0.9741 - dense_3_accuracy: 0.9223 - dense_5_accuracy: 0.8964 - dense_7_accuracy: 0.7047 - dense_9_accuracy: 0.7617 - val_loss: 20.3873 - val_dense_1_loss: 11.7847 - val_dense_3_loss: 1.0079 - val_dense_5_loss: 2.2428 - val_dense_7_loss: 2.9898 - val_dense_9_loss: 2.3620 - val_dense_1_accuracy: 0.3822 - val_dense_3_accuracy: 0.7696 - val_dense_5_accuracy: 0.5444 - val_dense_7_accuracy: 0.3694 - val_dense_9_accuracy: 0.4595\n",
            "Epoch 113/120\n",
            "7/7 [==============================] - 4s 574ms/step - loss: 2.1228 - dense_1_loss: 0.0800 - dense_3_loss: 0.2394 - dense_5_loss: 0.3640 - dense_7_loss: 0.7381 - dense_9_loss: 0.7013 - dense_1_accuracy: 0.9793 - dense_3_accuracy: 0.9067 - dense_5_accuracy: 0.8705 - dense_7_accuracy: 0.7150 - dense_9_accuracy: 0.7254 - val_loss: 20.2678 - val_dense_1_loss: 11.8612 - val_dense_3_loss: 1.1090 - val_dense_5_loss: 2.2527 - val_dense_7_loss: 2.8568 - val_dense_9_loss: 2.1881 - val_dense_1_accuracy: 0.3784 - val_dense_3_accuracy: 0.7542 - val_dense_5_accuracy: 0.5483 - val_dense_7_accuracy: 0.3938 - val_dense_9_accuracy: 0.4788\n",
            "Epoch 114/120\n",
            "7/7 [==============================] - 4s 673ms/step - loss: 1.9707 - dense_1_loss: 0.0960 - dense_3_loss: 0.2166 - dense_5_loss: 0.3625 - dense_7_loss: 0.6501 - dense_9_loss: 0.6454 - dense_1_accuracy: 0.9637 - dense_3_accuracy: 0.9171 - dense_5_accuracy: 0.8601 - dense_7_accuracy: 0.7668 - dense_9_accuracy: 0.7409 - val_loss: 21.4178 - val_dense_1_loss: 12.5275 - val_dense_3_loss: 1.3670 - val_dense_5_loss: 2.3711 - val_dense_7_loss: 2.8500 - val_dense_9_loss: 2.3022 - val_dense_1_accuracy: 0.3835 - val_dense_3_accuracy: 0.7091 - val_dense_5_accuracy: 0.5328 - val_dense_7_accuracy: 0.4067 - val_dense_9_accuracy: 0.4646\n",
            "Epoch 115/120\n",
            "7/7 [==============================] - 7s 1s/step - loss: 2.1520 - dense_1_loss: 0.1287 - dense_3_loss: 0.2101 - dense_5_loss: 0.2777 - dense_7_loss: 0.7321 - dense_9_loss: 0.8034 - dense_1_accuracy: 0.9326 - dense_3_accuracy: 0.9171 - dense_5_accuracy: 0.8860 - dense_7_accuracy: 0.7202 - dense_9_accuracy: 0.6943 - val_loss: 20.3305 - val_dense_1_loss: 11.5784 - val_dense_3_loss: 1.3126 - val_dense_5_loss: 2.2506 - val_dense_7_loss: 2.7241 - val_dense_9_loss: 2.4648 - val_dense_1_accuracy: 0.3822 - val_dense_3_accuracy: 0.7336 - val_dense_5_accuracy: 0.5187 - val_dense_7_accuracy: 0.4208 - val_dense_9_accuracy: 0.4556\n",
            "Epoch 116/120\n",
            "7/7 [==============================] - 4s 675ms/step - loss: 2.1695 - dense_1_loss: 0.1039 - dense_3_loss: 0.1858 - dense_5_loss: 0.3933 - dense_7_loss: 0.6709 - dense_9_loss: 0.8155 - dense_1_accuracy: 0.9534 - dense_3_accuracy: 0.9378 - dense_5_accuracy: 0.8342 - dense_7_accuracy: 0.7461 - dense_9_accuracy: 0.7047 - val_loss: 17.5242 - val_dense_1_loss: 9.4649 - val_dense_3_loss: 1.1287 - val_dense_5_loss: 1.9345 - val_dense_7_loss: 2.6007 - val_dense_9_loss: 2.3953 - val_dense_1_accuracy: 0.3848 - val_dense_3_accuracy: 0.7516 - val_dense_5_accuracy: 0.5380 - val_dense_7_accuracy: 0.3835 - val_dense_9_accuracy: 0.4414\n",
            "Epoch 117/120\n",
            "7/7 [==============================] - 4s 687ms/step - loss: 2.2303 - dense_1_loss: 0.1182 - dense_3_loss: 0.2295 - dense_5_loss: 0.2865 - dense_7_loss: 0.8369 - dense_9_loss: 0.7592 - dense_1_accuracy: 0.9585 - dense_3_accuracy: 0.9171 - dense_5_accuracy: 0.9067 - dense_7_accuracy: 0.7047 - dense_9_accuracy: 0.7254 - val_loss: 17.3129 - val_dense_1_loss: 9.4345 - val_dense_3_loss: 1.1317 - val_dense_5_loss: 1.9167 - val_dense_7_loss: 2.6076 - val_dense_9_loss: 2.2225 - val_dense_1_accuracy: 0.3810 - val_dense_3_accuracy: 0.7658 - val_dense_5_accuracy: 0.5457 - val_dense_7_accuracy: 0.3925 - val_dense_9_accuracy: 0.4479\n",
            "Epoch 118/120\n",
            "7/7 [==============================] - 8s 1s/step - loss: 1.9400 - dense_1_loss: 0.0837 - dense_3_loss: 0.1497 - dense_5_loss: 0.2962 - dense_7_loss: 0.6300 - dense_9_loss: 0.7804 - dense_1_accuracy: 0.9689 - dense_3_accuracy: 0.9534 - dense_5_accuracy: 0.8808 - dense_7_accuracy: 0.7720 - dense_9_accuracy: 0.6632 - val_loss: 19.5754 - val_dense_1_loss: 11.1213 - val_dense_3_loss: 1.3220 - val_dense_5_loss: 2.1331 - val_dense_7_loss: 2.7604 - val_dense_9_loss: 2.2386 - val_dense_1_accuracy: 0.3732 - val_dense_3_accuracy: 0.7529 - val_dense_5_accuracy: 0.5393 - val_dense_7_accuracy: 0.4196 - val_dense_9_accuracy: 0.4698\n",
            "Epoch 119/120\n",
            "7/7 [==============================] - 4s 679ms/step - loss: 2.0900 - dense_1_loss: 0.0930 - dense_3_loss: 0.1807 - dense_5_loss: 0.2638 - dense_7_loss: 0.7771 - dense_9_loss: 0.7754 - dense_1_accuracy: 0.9534 - dense_3_accuracy: 0.9223 - dense_5_accuracy: 0.9119 - dense_7_accuracy: 0.6891 - dense_9_accuracy: 0.7565 - val_loss: 21.8583 - val_dense_1_loss: 12.7232 - val_dense_3_loss: 1.4768 - val_dense_5_loss: 2.3351 - val_dense_7_loss: 2.9517 - val_dense_9_loss: 2.3716 - val_dense_1_accuracy: 0.3629 - val_dense_3_accuracy: 0.7413 - val_dense_5_accuracy: 0.5393 - val_dense_7_accuracy: 0.4157 - val_dense_9_accuracy: 0.4698\n",
            "Epoch 120/120\n",
            "7/7 [==============================] - 4s 697ms/step - loss: 1.8613 - dense_1_loss: 0.0961 - dense_3_loss: 0.2213 - dense_5_loss: 0.3129 - dense_7_loss: 0.6066 - dense_9_loss: 0.6244 - dense_1_accuracy: 0.9585 - dense_3_accuracy: 0.9119 - dense_5_accuracy: 0.8912 - dense_7_accuracy: 0.7876 - dense_9_accuracy: 0.7565 - val_loss: 21.0693 - val_dense_1_loss: 11.9366 - val_dense_3_loss: 1.3041 - val_dense_5_loss: 2.4226 - val_dense_7_loss: 3.0085 - val_dense_9_loss: 2.3975 - val_dense_1_accuracy: 0.3771 - val_dense_3_accuracy: 0.7658 - val_dense_5_accuracy: 0.5470 - val_dense_7_accuracy: 0.4028 - val_dense_9_accuracy: 0.4801\n"
          ]
        }
      ]
    },
    {
      "cell_type": "code",
      "source": [
        "model.save(\"model_m1.h5\")"
      ],
      "metadata": {
        "id": "GlmhqFFKqHLr"
      },
      "execution_count": 21,
      "outputs": []
    },
    {
      "cell_type": "code",
      "source": [
        "#to predict captcha\n",
        "def predict(filepath):\n",
        "    img = cv2.imread(filepath, cv2.IMREAD_GRAYSCALE)\n",
        "\n",
        "    if img is not None: #image foud at file path\n",
        "        img = img / 255.0 #Scale image\n",
        "    else:\n",
        "        print(\"Not detected\");\n",
        "\n",
        "    res = np.array(model.predict(img[np.newaxis, :, :, np.newaxis])) #np.newaxis=1 \n",
        "    #added this bcoz x_train 970*50*200*1\n",
        "    #returns array of size 1*5*36 \n",
        "    result = np.reshape(res, (5, 36)) #reshape the array\n",
        "    k_ind = []\n",
        "    probs = []\n",
        "    for i in result:\n",
        "        k_ind.append(np.argmax(i)) #adds the index of the char found in captcha\n",
        "\n",
        "    capt = '' #string to store predicted captcha\n",
        "    for k in k_ind:\n",
        "        capt += character[k] #finds the char corresponding to the index\n",
        "    return capt "
      ],
      "metadata": {
        "id": "lQaAx0EjqRAq"
      },
      "execution_count": 19,
      "outputs": []
    },
    {
      "cell_type": "code",
      "source": [
        "# Predict Captcha\n",
        "CAPTCHA_PATH = '/content/drive/MyDrive/samples/2356g.png'\n",
        "img=cv2.imread(CAPTCHA_PATH,cv2.IMREAD_GRAYSCALE)\n",
        "plt.imshow(img, cmap=plt.get_cmap('gray'))\n",
        "print(\"Predicted Captcha =\",predict(CAPTCHA_PATH))"
      ],
      "metadata": {
        "id": "Es4IUBj-qUlR",
        "colab": {
          "base_uri": "https://localhost:8080/",
          "height": 170
        },
        "outputId": "4f25d177-38a1-4335-f6b5-f82b36f95849"
      },
      "execution_count": 20,
      "outputs": [
        {
          "output_type": "stream",
          "name": "stdout",
          "text": [
            "1/1 [==============================] - 0s 302ms/step\n",
            "Predicted Captcha = 2n56g\n"
          ]
        },
        {
          "output_type": "display_data",
          "data": {
            "text/plain": [
              "<Figure size 432x288 with 1 Axes>"
            ],
            "image/png": "[encoded data removed]"
          },
          "metadata": {
            "needs_background": "light"
          }
        }
      ]
    }
  ]
}